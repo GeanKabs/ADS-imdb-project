{
 "cells": [
  {
   "cell_type": "code",
   "execution_count": 1,
   "id": "7ce34654",
   "metadata": {},
   "outputs": [],
   "source": [
    "# Predicting IMDb Rating\n",
    "# Objective:\n",
    "# Build a regression model to predict the IMDb Rating of a movie using features that are only availabe prior to its release\n",
    "\n",
    "# Basic EDA, cleaning, and visualisation modules\n",
    "import pandas as pd\n",
    "import numpy as np\n",
    "import seaborn as sns\n",
    "import matplotlib.pyplot as plt\n",
    "from datetime import datetime\n",
    "import re\n",
    "\n",
    "#Webscrapping\n",
    "from bs4 import BeautifulSoup\n",
    "from IPython.core.display import display, HTML\n",
    "import requests\n",
    "\n",
    "#Modelling\n",
    "from sklearn.model_selection import train_test_split, KFold, cross_val_score\n",
    "from sklearn.linear_model import LinearRegression, Ridge, Lasso, LassoCV, Ridge, RidgeCV\n",
    "from sklearn.preprocessing import StandardScaler, PolynomialFeatures\n",
    "from sklearn.metrics import r2_score, mean_squared_error\n",
    "import scipy.stats as stats\n",
    "\n",
    "#Functions made corresponding to .py files\n",
    "from helper_functions.directors_to_list import directors_list, remove_paren\n",
    "from helper_functions.imdb_big_scrape import get_movie_links\n",
    "from helper_functions.getting_info import get_movie_data\n",
    "\n",
    "import pickle\n",
    "%load_ext autoreload\n",
    "%autoreload 2\n",
    "\n"
   ]
  },
  {
   "cell_type": "code",
   "execution_count": 2,
   "id": "5c9bdf7e",
   "metadata": {},
   "outputs": [],
   "source": [
    "# STEP 1: Collecting links using the 'get_movie_links' function\n",
    "movie_links = get_movie_links(1)\n",
    "# 20 equals to 2000links,\n",
    "# 5 -> 500links\n",
    "#10 -> 1000links\n",
    "#40 -> 4000links"
   ]
  },
  {
   "cell_type": "code",
   "execution_count": 124,
   "id": "c114d1e5",
   "metadata": {},
   "outputs": [],
   "source": [
    "#movie_links"
   ]
  },
  {
   "cell_type": "code",
   "execution_count": 3,
   "id": "35fed895",
   "metadata": {},
   "outputs": [],
   "source": [
    "# STEP 2: Use the 'get_movie_data' function to collect desired data\n",
    "\n",
    "#create list with all movies from movies links\n",
    "count = 0\n",
    "movie_data_list = []\n",
    "for link in movie_links:\n",
    "    movie_data_list.append(get_movie_data(link))\n",
    "    count += 1\n",
    "    if count % 50 == 0:\n",
    "        with open ('IMDb_top_100s.pickle', 'wb') as to_write:\n",
    "            pickle.dump(movie_data_list, to_write)\n",
    "            "
   ]
  },
  {
   "cell_type": "code",
   "execution_count": 123,
   "id": "5eb69a08",
   "metadata": {},
   "outputs": [],
   "source": [
    "#movie_data_list"
   ]
  },
  {
   "cell_type": "code",
   "execution_count": 4,
   "id": "cb4041ab",
   "metadata": {},
   "outputs": [],
   "source": [
    "# Turn data into a DataFrame for easy analysis\n",
    "movie_page_info = pd.DataFrame(movie_data_list)\n"
   ]
  },
  {
   "cell_type": "code",
   "execution_count": 122,
   "id": "94a23ef0",
   "metadata": {},
   "outputs": [],
   "source": [
    "#movie_page_info"
   ]
  },
  {
   "cell_type": "code",
   "execution_count": 5,
   "id": "af935731",
   "metadata": {},
   "outputs": [],
   "source": [
    "movies_8000 = pd.DataFrame(pd.read_pickle('/home/gk/Downloads/IMDb_8000.pickle'))\n",
    "df1 = pd.DataFrame(pd.read_pickle('/home/gk/Downloads/IMDb_top_movies.pickle'))\n",
    "df2 = pd.DataFrame(pd.read_pickle('/home/gk/Downloads/IMDb_top_2000s.pickle'))\n",
    "\n",
    "#IMDB_8000 contains 8000movies between 2015 and 2020\n",
    "#IMDb_top_movies: supplements the data with top rated movies between 2010 and 2020\n",
    "#IMDb_top_2000s: supplements more top movies in the 2000s"
   ]
  },
  {
   "cell_type": "code",
   "execution_count": 6,
   "id": "99a08286",
   "metadata": {},
   "outputs": [],
   "source": [
    "movies_8100 = pd.concat([movies_8000,df1,df2])"
   ]
  },
  {
   "cell_type": "code",
   "execution_count": 121,
   "id": "57bf483d",
   "metadata": {},
   "outputs": [
    {
     "data": {
      "text/html": [
       "<div>\n",
       "<style scoped>\n",
       "    .dataframe tbody tr th:only-of-type {\n",
       "        vertical-align: middle;\n",
       "    }\n",
       "\n",
       "    .dataframe tbody tr th {\n",
       "        vertical-align: top;\n",
       "    }\n",
       "\n",
       "    .dataframe thead th {\n",
       "        text-align: right;\n",
       "    }\n",
       "</style>\n",
       "<table border=\"1\" class=\"dataframe\">\n",
       "  <thead>\n",
       "    <tr style=\"text-align: right;\">\n",
       "      <th></th>\n",
       "      <th>movie title</th>\n",
       "      <th>imdb rating</th>\n",
       "      <th>imdb raters</th>\n",
       "      <th>mpaa</th>\n",
       "      <th>genres</th>\n",
       "      <th>director</th>\n",
       "      <th>writer</th>\n",
       "      <th>stars</th>\n",
       "      <th>country</th>\n",
       "      <th>language</th>\n",
       "      <th>release date</th>\n",
       "      <th>budget</th>\n",
       "      <th>opening weekend</th>\n",
       "      <th>gross usa</th>\n",
       "      <th>cumulative worldwide</th>\n",
       "      <th>production companies</th>\n",
       "      <th>runtime (min)</th>\n",
       "    </tr>\n",
       "  </thead>\n",
       "  <tbody>\n",
       "    <tr>\n",
       "      <th>0</th>\n",
       "      <td>Mulan</td>\n",
       "      <td>5.4</td>\n",
       "      <td>57966.0</td>\n",
       "      <td>PG-13</td>\n",
       "      <td>[Action, Adventure, Drama, Family]</td>\n",
       "      <td>Niki Caro</td>\n",
       "      <td>Rick Jaffa</td>\n",
       "      <td>[Yifei Liu, Donnie Yen, Li Gong]</td>\n",
       "      <td>USA</td>\n",
       "      <td>English</td>\n",
       "      <td>2020-09-04</td>\n",
       "      <td>200000000.0</td>\n",
       "      <td>NaN</td>\n",
       "      <td>NaN</td>\n",
       "      <td>66800000.0</td>\n",
       "      <td>[Walt Disney Pictures, Jason T. Reed Productio...</td>\n",
       "      <td>115.0</td>\n",
       "    </tr>\n",
       "    <tr>\n",
       "      <th>1</th>\n",
       "      <td>The Invisible Man</td>\n",
       "      <td>7.1</td>\n",
       "      <td>136012.0</td>\n",
       "      <td>R</td>\n",
       "      <td>[Horror, Mystery, Sci-Fi, Thriller]</td>\n",
       "      <td>Leigh Whannell</td>\n",
       "      <td>Leigh Whannell</td>\n",
       "      <td>[Elisabeth Moss, Oliver Jackson-Cohen, Harriet...</td>\n",
       "      <td>Canada</td>\n",
       "      <td>English</td>\n",
       "      <td>2020-02-28</td>\n",
       "      <td>7000000.0</td>\n",
       "      <td>28205665.0</td>\n",
       "      <td>64914050.0</td>\n",
       "      <td>130722137.0</td>\n",
       "      <td>[Universal Pictures, Blumhouse Productions, Go...</td>\n",
       "      <td>124.0</td>\n",
       "    </tr>\n",
       "    <tr>\n",
       "      <th>2</th>\n",
       "      <td>On the Basis of Sex</td>\n",
       "      <td>7.1</td>\n",
       "      <td>23877.0</td>\n",
       "      <td>PG-13</td>\n",
       "      <td>[Biography, Drama]</td>\n",
       "      <td>Mimi Leder</td>\n",
       "      <td>Daniel Stiepleman</td>\n",
       "      <td>[Felicity Jones, Armie Hammer, Justin Theroux]</td>\n",
       "      <td>USA</td>\n",
       "      <td>English</td>\n",
       "      <td>2019-01-11</td>\n",
       "      <td>20000000.0</td>\n",
       "      <td>686355.0</td>\n",
       "      <td>24704837.0</td>\n",
       "      <td>38755900.0</td>\n",
       "      <td>[Alibaba Pictures, Amblin Partners, DreamWorks]</td>\n",
       "      <td>120.0</td>\n",
       "    </tr>\n",
       "    <tr>\n",
       "      <th>3</th>\n",
       "      <td>The Gentlemen</td>\n",
       "      <td>7.9</td>\n",
       "      <td>188297.0</td>\n",
       "      <td>R</td>\n",
       "      <td>[Action, Comedy, Crime]</td>\n",
       "      <td>Guy Ritchie</td>\n",
       "      <td>Guy Ritchie</td>\n",
       "      <td>[Matthew McConaughey, Charlie Hunnam, Michelle...</td>\n",
       "      <td>UK</td>\n",
       "      <td>English</td>\n",
       "      <td>2020-01-24</td>\n",
       "      <td>22000000.0</td>\n",
       "      <td>10651884.0</td>\n",
       "      <td>36471795.0</td>\n",
       "      <td>115171795.0</td>\n",
       "      <td>[STX Films, Miramax, Toff Guy Films]</td>\n",
       "      <td>113.0</td>\n",
       "    </tr>\n",
       "    <tr>\n",
       "      <th>4</th>\n",
       "      <td>Knives Out</td>\n",
       "      <td>7.9</td>\n",
       "      <td>394738.0</td>\n",
       "      <td>PG-13</td>\n",
       "      <td>[Comedy, Crime, Drama, Mystery, Thriller]</td>\n",
       "      <td>Rian Johnson</td>\n",
       "      <td>Rian Johnson</td>\n",
       "      <td>[Daniel Craig, Chris Evans, Ana de Armas]</td>\n",
       "      <td>USA</td>\n",
       "      <td>English</td>\n",
       "      <td>2019-11-27</td>\n",
       "      <td>40000000.0</td>\n",
       "      <td>26769548.0</td>\n",
       "      <td>165363234.0</td>\n",
       "      <td>309232797.0</td>\n",
       "      <td>[Lionsgate, Media Rights Capital (MRC), T-Street]</td>\n",
       "      <td>130.0</td>\n",
       "    </tr>\n",
       "    <tr>\n",
       "      <th>...</th>\n",
       "      <td>...</td>\n",
       "      <td>...</td>\n",
       "      <td>...</td>\n",
       "      <td>...</td>\n",
       "      <td>...</td>\n",
       "      <td>...</td>\n",
       "      <td>...</td>\n",
       "      <td>...</td>\n",
       "      <td>...</td>\n",
       "      <td>...</td>\n",
       "      <td>...</td>\n",
       "      <td>...</td>\n",
       "      <td>...</td>\n",
       "      <td>...</td>\n",
       "      <td>...</td>\n",
       "      <td>...</td>\n",
       "      <td>...</td>\n",
       "    </tr>\n",
       "    <tr>\n",
       "      <th>45</th>\n",
       "      <td>The Bourne Ultimatum</td>\n",
       "      <td>8.0</td>\n",
       "      <td>598807.0</td>\n",
       "      <td>PG-13</td>\n",
       "      <td>[Action, Mystery, Thriller]</td>\n",
       "      <td>Paul Greengrass</td>\n",
       "      <td>Tony Gilroy</td>\n",
       "      <td>[Matt Damon, Edgar Ramírez, Joan Allen]</td>\n",
       "      <td>USA</td>\n",
       "      <td>English</td>\n",
       "      <td>2007-08-03</td>\n",
       "      <td>110000000.0</td>\n",
       "      <td>69283690.0</td>\n",
       "      <td>227471070.0</td>\n",
       "      <td>444100035.0</td>\n",
       "      <td>[Universal Pictures, Motion Picture BETA Produ...</td>\n",
       "      <td>115.0</td>\n",
       "    </tr>\n",
       "    <tr>\n",
       "      <th>46</th>\n",
       "      <td>Before Sunset</td>\n",
       "      <td>8.1</td>\n",
       "      <td>230370.0</td>\n",
       "      <td>R</td>\n",
       "      <td>[Drama, Romance]</td>\n",
       "      <td>Richard Linklater</td>\n",
       "      <td>Richard Linklater</td>\n",
       "      <td>[Ethan Hawke, Julie Delpy, Vernon Dobtcheff]</td>\n",
       "      <td>USA</td>\n",
       "      <td>English</td>\n",
       "      <td>2004-07-30</td>\n",
       "      <td>2700000.0</td>\n",
       "      <td>219425.0</td>\n",
       "      <td>5820649.0</td>\n",
       "      <td>15936507.0</td>\n",
       "      <td>[Warner Independent Pictures (WIP), Castle Roc...</td>\n",
       "      <td>80.0</td>\n",
       "    </tr>\n",
       "    <tr>\n",
       "      <th>47</th>\n",
       "      <td>Hachi: A Dog's Tale</td>\n",
       "      <td>8.1</td>\n",
       "      <td>247282.0</td>\n",
       "      <td>G</td>\n",
       "      <td>[Drama, Family]</td>\n",
       "      <td>Lasse Hallström</td>\n",
       "      <td>Stephen P. Lindsey</td>\n",
       "      <td>[Richard Gere, Joan Allen, Cary-Hiroyuki Tagawa]</td>\n",
       "      <td>UK</td>\n",
       "      <td>English</td>\n",
       "      <td>2010-03-12</td>\n",
       "      <td>16000000.0</td>\n",
       "      <td>NaN</td>\n",
       "      <td>NaN</td>\n",
       "      <td>46749646.0</td>\n",
       "      <td>[Stage 6 Films, Inferno Distribution, Hachiko]</td>\n",
       "      <td>93.0</td>\n",
       "    </tr>\n",
       "    <tr>\n",
       "      <th>48</th>\n",
       "      <td>Dancer in the Dark</td>\n",
       "      <td>8.0</td>\n",
       "      <td>100469.0</td>\n",
       "      <td>R</td>\n",
       "      <td>[Crime, Drama, Musical]</td>\n",
       "      <td>Lars von Trier (as Lars Von Trier)</td>\n",
       "      <td>Lars von Trier</td>\n",
       "      <td>[Björk, Catherine Deneuve, David Morse]</td>\n",
       "      <td>Denmark</td>\n",
       "      <td>English</td>\n",
       "      <td>2000-10-06</td>\n",
       "      <td>12800000.0</td>\n",
       "      <td>91612.0</td>\n",
       "      <td>4184036.0</td>\n",
       "      <td>40031879.0</td>\n",
       "      <td>[Zentropa Entertainments, Trust Film Svenska, ...</td>\n",
       "      <td>140.0</td>\n",
       "    </tr>\n",
       "    <tr>\n",
       "      <th>49</th>\n",
       "      <td>Cinderella Man</td>\n",
       "      <td>8.0</td>\n",
       "      <td>173950.0</td>\n",
       "      <td>PG-13</td>\n",
       "      <td>[Biography, Drama, History, Romance, Sport]</td>\n",
       "      <td>Ron Howard</td>\n",
       "      <td>Cliff Hollingsworth</td>\n",
       "      <td>[Russell Crowe, Renée Zellweger, Craig Bierko]</td>\n",
       "      <td>USA</td>\n",
       "      <td>English</td>\n",
       "      <td>2005-06-03</td>\n",
       "      <td>88000000.0</td>\n",
       "      <td>18320205.0</td>\n",
       "      <td>61649911.0</td>\n",
       "      <td>108539911.0</td>\n",
       "      <td>[Universal Pictures, Miramax, Imagine Entertai...</td>\n",
       "      <td>144.0</td>\n",
       "    </tr>\n",
       "  </tbody>\n",
       "</table>\n",
       "<p>8100 rows × 17 columns</p>\n",
       "</div>"
      ],
      "text/plain": [
       "             movie title  imdb rating  imdb raters   mpaa  \\\n",
       "0                  Mulan          5.4      57966.0  PG-13   \n",
       "1      The Invisible Man          7.1     136012.0      R   \n",
       "2    On the Basis of Sex          7.1      23877.0  PG-13   \n",
       "3          The Gentlemen          7.9     188297.0      R   \n",
       "4             Knives Out          7.9     394738.0  PG-13   \n",
       "..                   ...          ...          ...    ...   \n",
       "45  The Bourne Ultimatum          8.0     598807.0  PG-13   \n",
       "46         Before Sunset          8.1     230370.0      R   \n",
       "47   Hachi: A Dog's Tale          8.1     247282.0      G   \n",
       "48    Dancer in the Dark          8.0     100469.0      R   \n",
       "49        Cinderella Man          8.0     173950.0  PG-13   \n",
       "\n",
       "                                         genres  \\\n",
       "0            [Action, Adventure, Drama, Family]   \n",
       "1           [Horror, Mystery, Sci-Fi, Thriller]   \n",
       "2                            [Biography, Drama]   \n",
       "3                       [Action, Comedy, Crime]   \n",
       "4     [Comedy, Crime, Drama, Mystery, Thriller]   \n",
       "..                                          ...   \n",
       "45                  [Action, Mystery, Thriller]   \n",
       "46                             [Drama, Romance]   \n",
       "47                              [Drama, Family]   \n",
       "48                      [Crime, Drama, Musical]   \n",
       "49  [Biography, Drama, History, Romance, Sport]   \n",
       "\n",
       "                              director               writer  \\\n",
       "0                            Niki Caro           Rick Jaffa   \n",
       "1                       Leigh Whannell       Leigh Whannell   \n",
       "2                           Mimi Leder    Daniel Stiepleman   \n",
       "3                          Guy Ritchie          Guy Ritchie   \n",
       "4                         Rian Johnson         Rian Johnson   \n",
       "..                                 ...                  ...   \n",
       "45                     Paul Greengrass          Tony Gilroy   \n",
       "46                   Richard Linklater    Richard Linklater   \n",
       "47                     Lasse Hallström   Stephen P. Lindsey   \n",
       "48  Lars von Trier (as Lars Von Trier)       Lars von Trier   \n",
       "49                          Ron Howard  Cliff Hollingsworth   \n",
       "\n",
       "                                                stars  country language  \\\n",
       "0                    [Yifei Liu, Donnie Yen, Li Gong]      USA  English   \n",
       "1   [Elisabeth Moss, Oliver Jackson-Cohen, Harriet...   Canada  English   \n",
       "2      [Felicity Jones, Armie Hammer, Justin Theroux]      USA  English   \n",
       "3   [Matthew McConaughey, Charlie Hunnam, Michelle...       UK  English   \n",
       "4           [Daniel Craig, Chris Evans, Ana de Armas]      USA  English   \n",
       "..                                                ...      ...      ...   \n",
       "45            [Matt Damon, Edgar Ramírez, Joan Allen]      USA  English   \n",
       "46       [Ethan Hawke, Julie Delpy, Vernon Dobtcheff]      USA  English   \n",
       "47   [Richard Gere, Joan Allen, Cary-Hiroyuki Tagawa]       UK  English   \n",
       "48            [Björk, Catherine Deneuve, David Morse]  Denmark  English   \n",
       "49     [Russell Crowe, Renée Zellweger, Craig Bierko]      USA  English   \n",
       "\n",
       "   release date       budget  opening weekend    gross usa  \\\n",
       "0    2020-09-04  200000000.0              NaN          NaN   \n",
       "1    2020-02-28    7000000.0       28205665.0   64914050.0   \n",
       "2    2019-01-11   20000000.0         686355.0   24704837.0   \n",
       "3    2020-01-24   22000000.0       10651884.0   36471795.0   \n",
       "4    2019-11-27   40000000.0       26769548.0  165363234.0   \n",
       "..          ...          ...              ...          ...   \n",
       "45   2007-08-03  110000000.0       69283690.0  227471070.0   \n",
       "46   2004-07-30    2700000.0         219425.0    5820649.0   \n",
       "47   2010-03-12   16000000.0              NaN          NaN   \n",
       "48   2000-10-06   12800000.0          91612.0    4184036.0   \n",
       "49   2005-06-03   88000000.0       18320205.0   61649911.0   \n",
       "\n",
       "    cumulative worldwide                               production companies  \\\n",
       "0             66800000.0  [Walt Disney Pictures, Jason T. Reed Productio...   \n",
       "1            130722137.0  [Universal Pictures, Blumhouse Productions, Go...   \n",
       "2             38755900.0    [Alibaba Pictures, Amblin Partners, DreamWorks]   \n",
       "3            115171795.0               [STX Films, Miramax, Toff Guy Films]   \n",
       "4            309232797.0  [Lionsgate, Media Rights Capital (MRC), T-Street]   \n",
       "..                   ...                                                ...   \n",
       "45           444100035.0  [Universal Pictures, Motion Picture BETA Produ...   \n",
       "46            15936507.0  [Warner Independent Pictures (WIP), Castle Roc...   \n",
       "47            46749646.0     [Stage 6 Films, Inferno Distribution, Hachiko]   \n",
       "48            40031879.0  [Zentropa Entertainments, Trust Film Svenska, ...   \n",
       "49           108539911.0  [Universal Pictures, Miramax, Imagine Entertai...   \n",
       "\n",
       "    runtime (min)  \n",
       "0           115.0  \n",
       "1           124.0  \n",
       "2           120.0  \n",
       "3           113.0  \n",
       "4           130.0  \n",
       "..            ...  \n",
       "45          115.0  \n",
       "46           80.0  \n",
       "47           93.0  \n",
       "48          140.0  \n",
       "49          144.0  \n",
       "\n",
       "[8100 rows x 17 columns]"
      ]
     },
     "execution_count": 121,
     "metadata": {},
     "output_type": "execute_result"
    }
   ],
   "source": [
    "movies_8100"
   ]
  },
  {
   "cell_type": "code",
   "execution_count": 127,
   "id": "18e1fafd",
   "metadata": {},
   "outputs": [],
   "source": [
    "#Creating a csv file\n",
    "movies_8100.to_csv('movies_8100.csv', index=False, encoding='utf-8')\n"
   ]
  },
  {
   "cell_type": "code",
   "execution_count": 7,
   "id": "67a5bbb1",
   "metadata": {},
   "outputs": [],
   "source": [
    "# STEP 3: Diving into the data to further understand relationships\n",
    "\n",
    "#Copy the original dataframe to mess with the data more freely\n",
    "movies_df = movies_8100.copy()\n",
    "movies_df.drop_duplicates(subset=['movie title'], inplace=True)\n"
   ]
  },
  {
   "cell_type": "code",
   "execution_count": 8,
   "id": "28d71526",
   "metadata": {},
   "outputs": [],
   "source": [
    "# Reset the index to be the Movie Title\n",
    "movies_df.set_index('movie title', inplace=True)"
   ]
  },
  {
   "cell_type": "code",
   "execution_count": 9,
   "id": "b48f48b9",
   "metadata": {},
   "outputs": [],
   "source": [
    "# Drop movies without budget data\n",
    "movies_df_drop = movies_df.dropna(subset=['budget']\n",
    "                                 )"
   ]
  },
  {
   "cell_type": "code",
   "execution_count": 10,
   "id": "fec087a0",
   "metadata": {},
   "outputs": [
    {
     "name": "stdout",
     "output_type": "stream",
     "text": [
      "<class 'pandas.core.frame.DataFrame'>\n",
      "Index: 2655 entries, Mulan to Cinderella Man\n",
      "Data columns (total 16 columns):\n",
      " #   Column                Non-Null Count  Dtype  \n",
      "---  ------                --------------  -----  \n",
      " 0   imdb rating           2495 non-null   float64\n",
      " 1   imdb raters           2495 non-null   float64\n",
      " 2   mpaa                  1581 non-null   object \n",
      " 3   genres                2654 non-null   object \n",
      " 4   director              2652 non-null   object \n",
      " 5   writer                2651 non-null   object \n",
      " 6   stars                 2594 non-null   object \n",
      " 7   country               2655 non-null   object \n",
      " 8   language              2655 non-null   object \n",
      " 9   release date          2464 non-null   object \n",
      " 10  budget                2655 non-null   float64\n",
      " 11  opening weekend       931 non-null    float64\n",
      " 12  gross usa             957 non-null    float64\n",
      " 13  cumulative worldwide  1118 non-null   float64\n",
      " 14  production companies  2480 non-null   object \n",
      " 15  runtime (min)         2382 non-null   float64\n",
      "dtypes: float64(7), object(9)\n",
      "memory usage: 352.6+ KB\n"
     ]
    }
   ],
   "source": [
    "# To see what we are working with\n",
    "movies_df_drop.info()"
   ]
  },
  {
   "cell_type": "code",
   "execution_count": 11,
   "id": "668951b6",
   "metadata": {},
   "outputs": [
    {
     "data": {
      "image/png": "[encoded data removed]",
      "text/plain": [
       "<Figure size 756x604.8 with 56 Axes>"
      ]
     },
     "metadata": {
      "needs_background": "light"
     },
     "output_type": "display_data"
    }
   ],
   "source": [
    "# Visualising some relationships\n",
    "sns.pairplot(movies_df_drop, height=1.2, aspect=1.25)\n",
    "plt.savefig('pariplot.png')"
   ]
  },
  {
   "cell_type": "code",
   "execution_count": 12,
   "id": "9f0c0fd8",
   "metadata": {},
   "outputs": [],
   "source": [
    "# STEP 4: Clean up data and add features\n",
    "\n",
    "# 1. Drop rows with no rating, no release date, and no runtime\n",
    "# 2. Fill rows with empty MPAA with the filler 'N/A'\n",
    "\n",
    "\n",
    "# Disabling SettingWithCopyWarning\n",
    "pd.options.mode.chained_assignment = None  # default='warn'\n",
    "# Not wanting to lose titles wit no MPAA, we fill in missing values with \"N/A\"\n",
    "movies_df_drop['mpaa'].fillna('N/A', inplace=True)\n"
   ]
  },
  {
   "cell_type": "code",
   "execution_count": 13,
   "id": "8b8e3c8d",
   "metadata": {},
   "outputs": [],
   "source": [
    "#Drop movies without rating\n",
    "movie_drop2 = movies_df_drop[movies_df_drop['imdb rating'].notna()]"
   ]
  },
  {
   "cell_type": "code",
   "execution_count": 14,
   "id": "cd86100d",
   "metadata": {},
   "outputs": [],
   "source": [
    "#Remove movies with less than 1,000 raters for better validity in ratings\n",
    "movie_drop2 = movie_drop2[movie_drop2['imdb raters'] >= 1000]"
   ]
  },
  {
   "cell_type": "code",
   "execution_count": 15,
   "id": "3dd50b4d",
   "metadata": {},
   "outputs": [],
   "source": [
    "#Remove movies with less than a $1,000 budget to focus model\n",
    "movie_drop2 = movie_drop2[movie_drop2['budget'] >= 1000]"
   ]
  },
  {
   "cell_type": "code",
   "execution_count": 16,
   "id": "c6348fd5",
   "metadata": {},
   "outputs": [],
   "source": [
    "#Remove movies withour Runtime data\n",
    "movie_drop2 = movie_drop2[movie_drop2['runtime (min)'].notna()]"
   ]
  },
  {
   "cell_type": "code",
   "execution_count": 17,
   "id": "521241d0",
   "metadata": {},
   "outputs": [],
   "source": [
    "# FEATURE: Runtime\n",
    "\n",
    "# 1. Test out a basic component of the new DataFrame:\n",
    "# The target being: IMDb rating\n",
    "\n",
    "\n",
    "X, y = movie_drop2[['runtime (min)']], movie_drop2['imdb rating']"
   ]
  },
  {
   "cell_type": "code",
   "execution_count": 18,
   "id": "f362aa7d",
   "metadata": {},
   "outputs": [
    {
     "name": "stdout",
     "output_type": "stream",
     "text": [
      "R-squared: 0.2687\n"
     ]
    }
   ],
   "source": [
    "lr = LinearRegression()\n",
    "lr.fit(X, y)\n",
    "print('R-squared: {:.4f}'.format(lr.score(X, y)))"
   ]
  },
  {
   "cell_type": "code",
   "execution_count": 19,
   "id": "23c1a617",
   "metadata": {},
   "outputs": [],
   "source": [
    "# Feature: MPAA Rating\n",
    "# Testing out the MPAA rating\n",
    "\n",
    "#Getting dummy variables for MPAA ratings \n",
    "mpaa_df = pd.get_dummies(movie_drop2['mpaa'])\n"
   ]
  },
  {
   "cell_type": "code",
   "execution_count": 20,
   "id": "9859aba6",
   "metadata": {
    "scrolled": true
   },
   "outputs": [],
   "source": [
    "# Adding them to the rest of the data\n",
    "df_added_mpaa_dummies = pd.concat([movie_drop2, mpaa_df], axis =1)"
   ]
  },
  {
   "cell_type": "code",
   "execution_count": 21,
   "id": "9fee72d1",
   "metadata": {},
   "outputs": [
    {
     "name": "stdout",
     "output_type": "stream",
     "text": [
      "R-squared: 0.3181\n"
     ]
    }
   ],
   "source": [
    "# Adding the MPA dummy variables and budget to the model\n",
    "X, y = df_added_mpaa_dummies[['runtime (min)', 'budget', 'G', 'N/A', 'Not Rated', 'PG', 'PG-13', 'R', 'TV-MA', 'Unrated']], df_added_mpaa_dummies['imdb rating']\n",
    "lr = LinearRegression()\n",
    "lr.fit(X, y)\n",
    "print ('R-squared: {:.4f}'.format(lr.score(X, y)))\n"
   ]
  },
  {
   "cell_type": "code",
   "execution_count": 22,
   "id": "71d91af0",
   "metadata": {},
   "outputs": [],
   "source": [
    "# Feature: Genre\n",
    "\n",
    "#Turning genres into dummy variables\n",
    "df_genres_added = pd.Series(df_added_mpaa_dummies['genres'])\n",
    "#df_genres_added = pd.get_dummies(df_genres_added.apply(pd.Series).stack()).sum(level=0) -->df.sum() soon to be deprecated, being replaced by groupby()\n",
    "df_genres_added = pd.get_dummies(df_genres_added.apply(pd.Series).stack()).groupby(level=0).sum()"
   ]
  },
  {
   "cell_type": "code",
   "execution_count": 23,
   "id": "d6a4060f",
   "metadata": {},
   "outputs": [],
   "source": [
    "df_genres_mpaa = pd.concat([df_added_mpaa_dummies, df_genres_added], axis=1)"
   ]
  },
  {
   "cell_type": "code",
   "execution_count": 24,
   "id": "7ae7b5f7",
   "metadata": {},
   "outputs": [],
   "source": [
    "# Dropping the columns not being used, to make it easier to view \n",
    "df_genres_mpaa.drop(labels=['opening weekend', 'gross usa', 'cumulative worldwide'], axis=1, inplace=True)"
   ]
  },
  {
   "cell_type": "code",
   "execution_count": 25,
   "id": "19adac46",
   "metadata": {},
   "outputs": [
    {
     "name": "stdout",
     "output_type": "stream",
     "text": [
      "R-squared: 0.3993\n"
     ]
    }
   ],
   "source": [
    "X, y = df_genres_mpaa[['runtime (min)', 'budget', 'G', 'N/A', 'Not Rated', 'PG', 'PG-13', 'R', 'TV-MA', 'Unrated', 'Action', 'Adventure', 'Animation', 'Biography', 'Comedy', 'Drama', 'Family', 'Fantasy', 'History', 'Horror', 'Music', 'Musical', 'Mystery', 'Romance', 'Sci-Fi', 'Sport', 'Thriller', 'War', 'Western']], df_genres_mpaa['imdb rating']\n",
    "lr = LinearRegression()\n",
    "lr.fit(X, y)\n",
    "print('R-squared: {:.4f}'.format(lr.score(X, y)))"
   ]
  },
  {
   "cell_type": "code",
   "execution_count": 26,
   "id": "a0413176",
   "metadata": {},
   "outputs": [
    {
     "data": {
      "text/plain": [
       "['Spider-Man: Into the Spider-Verse',\n",
       " 'Moana',\n",
       " 'Zootopia',\n",
       " 'Despicable Me 3',\n",
       " 'Animal Crackers',\n",
       " 'The Lego Ninjago Movie',\n",
       " 'The Wild Life',\n",
       " 'The Heyday of the Insensitive Bastards',\n",
       " 'Dude Bro Party Massacre III',\n",
       " 'Sin City',\n",
       " 'Monsters, Inc.']"
      ]
     },
     "execution_count": 26,
     "metadata": {},
     "output_type": "execute_result"
    }
   ],
   "source": [
    "#Feature:Director\n",
    "\n",
    "movie_drop2[movie_drop2['director']==''].index.tolist()"
   ]
  },
  {
   "cell_type": "code",
   "execution_count": 27,
   "id": "875d2755",
   "metadata": {},
   "outputs": [],
   "source": [
    "#Putting those movies into a list\n",
    "empty_dir = movie_drop2[movie_drop2['director']==''].index.values.tolist()"
   ]
  },
  {
   "cell_type": "code",
   "execution_count": 28,
   "id": "7f28e296",
   "metadata": {},
   "outputs": [],
   "source": [
    "# Getting the directors corresponding to the movies\n",
    "\n",
    "dir_fill = [\n",
    "    'Peter Ramsey, Bob Persichetti, Rodney Rothman',\n",
    "    'Ron Clements, John Musker',\n",
    "    'Byron Howard, Rich Moore',\n",
    "    'Pierre Coffin, Chris Renaud',\n",
    "    'Scott Sava, Tony Bancroft',\n",
    "    'Charlie Bean, Bob Logan, Paul Fisher',\n",
    "    'Vincent Kesteloot, Ben Stassen',\n",
    "    'Mark Columbus, Shadae Lamar Smith',\n",
    "    'Michael Rouseelet, Jon Salmon',\n",
    "    'Frank Miller, Quentin Tarantino, Robert Rodriguez',\n",
    "    'Dan Scanlon, Saschka Unseld'\n",
    "]"
   ]
  },
  {
   "cell_type": "code",
   "execution_count": 29,
   "id": "b6fe7d00",
   "metadata": {},
   "outputs": [],
   "source": [
    "#Run through the empty direcors and fill with added info\n",
    "for num, movie in enumerate(empty_dir):\n",
    "    movie_drop2['director'][movie] = dir_fill[num]\n",
    "    "
   ]
  },
  {
   "cell_type": "code",
   "execution_count": 30,
   "id": "82753bda",
   "metadata": {},
   "outputs": [],
   "source": [
    "#Turns directors into a list to fix some inconsistencies\n",
    "movie_drop2['director'] = movie_drop2['director'].apply(lambda x: directors_list(x))"
   ]
  },
  {
   "cell_type": "code",
   "execution_count": 31,
   "id": "4d06d7e9",
   "metadata": {},
   "outputs": [],
   "source": [
    "#Removes parenthesis in director columns\n",
    "movie_drop2['director'] = movie_drop2['director'].apply(lambda x: remove_paren(x))"
   ]
  },
  {
   "cell_type": "code",
   "execution_count": 32,
   "id": "dd99dab9",
   "metadata": {},
   "outputs": [],
   "source": [
    "#Explode out directors to report on their relevance\n",
    "df_dir_exploded = movie_drop2.explode('director')"
   ]
  },
  {
   "cell_type": "code",
   "execution_count": 33,
   "id": "99a5b346",
   "metadata": {},
   "outputs": [],
   "source": [
    "dir_10 = df_dir_exploded['director'].value_counts()[:10].index.tolist()"
   ]
  },
  {
   "cell_type": "code",
   "execution_count": 34,
   "id": "5d18e2c1",
   "metadata": {},
   "outputs": [],
   "source": [
    "#Creating a function to selecr top directors and create new columns\n",
    "# Which will let us create dummy variables just for top directors\n",
    "def top_directors(directors):\n",
    "    dir_list = []\n",
    "    for director in directors:\n",
    "        if director in dir_10:\n",
    "            dir_list.append(director)\n",
    "    return dir_list\n"
   ]
  },
  {
   "cell_type": "code",
   "execution_count": 35,
   "id": "50265d13",
   "metadata": {},
   "outputs": [],
   "source": [
    "#Applying the function to create a new column\n",
    "movie_drop2['top directors'] = movie_drop2['director'].apply(lambda x: top_directors(x))"
   ]
  },
  {
   "cell_type": "code",
   "execution_count": 36,
   "id": "79c8b4b5",
   "metadata": {},
   "outputs": [],
   "source": [
    "#Getting dummies for the top directors\n",
    "\n",
    "#dir_df = pd.get_dummies(movie_drop2['top directors'].apply(pd.Series).stack()).sum(level=0)\n",
    "dir_df = pd.get_dummies(movie_drop2['top directors'].apply(pd.Series).stack()).groupby(level=0).sum()"
   ]
  },
  {
   "cell_type": "code",
   "execution_count": 37,
   "id": "f91678f5",
   "metadata": {},
   "outputs": [],
   "source": [
    "#Merging dummies with model DataFrame\n",
    "df_dir_model = pd.concat([df_genres_mpaa, dir_df], axis=1)"
   ]
  },
  {
   "cell_type": "code",
   "execution_count": 38,
   "id": "00717b1c",
   "metadata": {},
   "outputs": [],
   "source": [
    "#Taking out columns that we are not using\n",
    "df_dir_model.drop(labels=['imdb raters', 'genres', 'director', 'writer', 'stars', 'country', 'language', 'release date', 'production companies'], axis=1, inplace=True)"
   ]
  },
  {
   "cell_type": "code",
   "execution_count": 39,
   "id": "e2588351",
   "metadata": {},
   "outputs": [],
   "source": [
    "#Repalcing all of the NaN values with 0's to turn into a proper binary dataset\n",
    "df_dir_model.replace(np.nan, 0, inplace=True)"
   ]
  },
  {
   "cell_type": "code",
   "execution_count": 40,
   "id": "2b6fff4f",
   "metadata": {},
   "outputs": [
    {
     "name": "stdout",
     "output_type": "stream",
     "text": [
      "R-squared: 0.4279\n"
     ]
    }
   ],
   "source": [
    "X, y = df_dir_model.iloc[:,2:], df_dir_model['imdb rating']\n",
    "lr = LinearRegression()\n",
    "lr.fit(X, y)\n",
    "print ('R-squared: {:.4f}'.format(lr.score(X, y)))\n"
   ]
  },
  {
   "cell_type": "code",
   "execution_count": 41,
   "id": "051182c2",
   "metadata": {},
   "outputs": [],
   "source": [
    "# Feature: Writer\n",
    "\n",
    "#The writer column isn't in list form, so we can just get dummy variables\n",
    "writ_df = pd.get_dummies(movie_drop2['writer'])"
   ]
  },
  {
   "cell_type": "code",
   "execution_count": 42,
   "id": "c8549ee6",
   "metadata": {},
   "outputs": [],
   "source": [
    "#Let's only single out the top 10 most freqeuntly occuring writers\n",
    "writ_10 = movie_drop2.writer.value_counts()[:10].index.tolist()"
   ]
  },
  {
   "cell_type": "code",
   "execution_count": 43,
   "id": "69fbe48a",
   "metadata": {},
   "outputs": [],
   "source": [
    "df_writ_model = pd.concat([df_dir_model, writ_df[writ_10]], axis=1)"
   ]
  },
  {
   "cell_type": "code",
   "execution_count": 44,
   "id": "785519c8",
   "metadata": {},
   "outputs": [
    {
     "name": "stdout",
     "output_type": "stream",
     "text": [
      "R-squared: 0.4383\n"
     ]
    }
   ],
   "source": [
    "X, y = df_writ_model.iloc[:,2:], df_writ_model['imdb rating']\n",
    "lr = LinearRegression()\n",
    "lr.fit(X, y)\n",
    "print ('R-squared: {:.4f}'.format(lr.score(X, y)))"
   ]
  },
  {
   "cell_type": "code",
   "execution_count": 45,
   "id": "7116f0a1",
   "metadata": {},
   "outputs": [],
   "source": [
    "# Feature: Stars\n",
    "\n",
    "stars_exploded = movie_drop2.explode('stars')"
   ]
  },
  {
   "cell_type": "code",
   "execution_count": 46,
   "id": "9f38b208",
   "metadata": {},
   "outputs": [],
   "source": [
    "#Taking the top 20 stars instead of just 10\n",
    "stars_20 = stars_exploded['stars'].value_counts()[:20].index.tolist()"
   ]
  },
  {
   "cell_type": "code",
   "execution_count": 47,
   "id": "f5002893",
   "metadata": {},
   "outputs": [],
   "source": [
    "#Create a function to select top stars and create new columns\n",
    "#This will let us create dummy variables just for top stars\n",
    "\n",
    "def top_stars(stars):\n",
    "    star_list = []\n",
    "    for star in stars:\n",
    "        if star in stars_20:\n",
    "            star_list.append(star)\n",
    "    return star_list\n"
   ]
  },
  {
   "cell_type": "code",
   "execution_count": 48,
   "id": "9fb99eb7",
   "metadata": {},
   "outputs": [],
   "source": [
    "movie_drop2['top stars'] = movie_drop2['stars'].apply(lambda x: top_stars(x))"
   ]
  },
  {
   "cell_type": "code",
   "execution_count": 49,
   "id": "9b734afd",
   "metadata": {},
   "outputs": [],
   "source": [
    "#stars_df = pd.get_dummies(movie_drop2['top stars'].apply(pd.Series).stack()).sum(level=0)\n",
    "stars_df = pd.get_dummies(movie_drop2['top stars'].apply(pd.Series).stack()).groupby(level=0).sum()"
   ]
  },
  {
   "cell_type": "code",
   "execution_count": 50,
   "id": "9bd9bd52",
   "metadata": {},
   "outputs": [],
   "source": [
    "star_model = pd.concat([df_writ_model, stars_df[stars_20]],axis =1)"
   ]
  },
  {
   "cell_type": "code",
   "execution_count": 51,
   "id": "cf396ecc",
   "metadata": {},
   "outputs": [],
   "source": [
    "star_model.replace(np.nan, 0, inplace=True)"
   ]
  },
  {
   "cell_type": "code",
   "execution_count": 52,
   "id": "ecf23cc0",
   "metadata": {},
   "outputs": [
    {
     "name": "stdout",
     "output_type": "stream",
     "text": [
      "R-squared: 0.4472\n"
     ]
    }
   ],
   "source": [
    "X, y = star_model.iloc[:,2:], star_model['imdb rating']\n",
    "lr = LinearRegression()\n",
    "lr.fit(X, y)\n",
    "print ('R-squared: {:.4f}'.format(lr.score(X, y)))"
   ]
  },
  {
   "cell_type": "code",
   "execution_count": 53,
   "id": "db83fb6a",
   "metadata": {},
   "outputs": [],
   "source": [
    "# Feature: Production Company\n",
    "\n",
    "prod_exploded = movie_drop2.explode('production companies')"
   ]
  },
  {
   "cell_type": "code",
   "execution_count": 54,
   "id": "1ade6c79",
   "metadata": {},
   "outputs": [],
   "source": [
    "prod_15 = prod_exploded['production companies'].value_counts()[:15].index.tolist()"
   ]
  },
  {
   "cell_type": "code",
   "execution_count": 55,
   "id": "a2527c44",
   "metadata": {},
   "outputs": [],
   "source": [
    "movie_drop2.loc[movie_drop2['production companies'].isnull(), 'production companies'] = movie_drop2.loc[movie_drop2['production companies'].isnull(), 'production companies'].apply(lambda x: [])"
   ]
  },
  {
   "cell_type": "code",
   "execution_count": 56,
   "id": "03ad1d79",
   "metadata": {},
   "outputs": [],
   "source": [
    "def top_prod(comp):\n",
    "    comp_list = []\n",
    "    for co in comp:\n",
    "        if co in prod_15:\n",
    "            comp_list.append(co)\n",
    "    return comp_list"
   ]
  },
  {
   "cell_type": "code",
   "execution_count": 57,
   "id": "19dd8c07",
   "metadata": {},
   "outputs": [],
   "source": [
    "movie_drop2['top prod co.'] = movie_drop2['production companies'].apply(lambda x: top_prod(x))"
   ]
  },
  {
   "cell_type": "code",
   "execution_count": 58,
   "id": "1c243f98",
   "metadata": {},
   "outputs": [],
   "source": [
    "#prod_df = pd.get_dummies(movie_drop2['top prod co.'].apply(pd.Series).stack()).sum(level=0)\n",
    "prod_df = pd.get_dummies(movie_drop2['top prod co.'].apply(pd.Series).stack()).groupby(level=0).sum()"
   ]
  },
  {
   "cell_type": "code",
   "execution_count": 59,
   "id": "d2a5b8a1",
   "metadata": {},
   "outputs": [],
   "source": [
    "prod_model = pd.concat([star_model, prod_df[prod_15]], axis=1)"
   ]
  },
  {
   "cell_type": "code",
   "execution_count": 60,
   "id": "e263ff17",
   "metadata": {},
   "outputs": [],
   "source": [
    "prod_model.replace(np.nan,0,inplace=True)"
   ]
  },
  {
   "cell_type": "code",
   "execution_count": 61,
   "id": "0e6efefd",
   "metadata": {},
   "outputs": [
    {
     "name": "stdout",
     "output_type": "stream",
     "text": [
      "R-squared: 0.4586\n"
     ]
    }
   ],
   "source": [
    "X, y = prod_model.iloc[:,2:], prod_model['imdb rating']\n",
    "lr = LinearRegression()\n",
    "lr.fit(X, y)\n",
    "print ('R-squared: {:.4f}'.format(lr.score(X, y)))"
   ]
  },
  {
   "cell_type": "code",
   "execution_count": 62,
   "id": "8ab05210",
   "metadata": {},
   "outputs": [],
   "source": [
    "# Feature: Release Month\n",
    "\n",
    "# Entering manually values for movies without release dates\n",
    "empty_date = movie_drop2[movie_drop2['release date'].isnull()].index.tolist()"
   ]
  },
  {
   "cell_type": "code",
   "execution_count": 63,
   "id": "64b4d9cf",
   "metadata": {},
   "outputs": [
    {
     "data": {
      "text/plain": [
       "['The Crash',\n",
       " 'Burn Your Maps',\n",
       " '2020',\n",
       " 'Cyborg X',\n",
       " 'The Capture',\n",
       " 'Bleed',\n",
       " 'Bad Hero']"
      ]
     },
     "execution_count": 63,
     "metadata": {},
     "output_type": "execute_result"
    }
   ],
   "source": [
    "empty_date"
   ]
  },
  {
   "cell_type": "code",
   "execution_count": 64,
   "id": "75005719",
   "metadata": {},
   "outputs": [],
   "source": [
    "# Filling in the release dates corresponding to the movies\n",
    "dates_fill = [\n",
    "    pd.to_datetime('20170113', format='%Y%m%d'),\n",
    "    pd.to_datetime('20160909', format='%Y%m%d'),\n",
    "    pd.to_datetime('20170902', format='%Y%m%d'),\n",
    "    pd.to_datetime('20160512', format='%Y%m%d'),\n",
    "    pd.to_datetime('20171116', format='%Y%m%d'),\n",
    "    pd.to_datetime('20160325', format='%Y%m%d'),\n",
    "    pd.to_datetime('20101215', format='%Y%m%d')\n",
    "]"
   ]
  },
  {
   "cell_type": "code",
   "execution_count": 65,
   "id": "1e8bed64",
   "metadata": {},
   "outputs": [],
   "source": [
    "# Running through the empty dates and filling in with added info\n",
    "for num, movie in enumerate(empty_date):\n",
    "    movie_drop2['release date'][movie] = dates_fill[num]"
   ]
  },
  {
   "cell_type": "code",
   "execution_count": 66,
   "id": "138e65dc",
   "metadata": {},
   "outputs": [],
   "source": [
    "# Creating new month column and filling in with month name\n",
    "movie_drop2['month'] = movie_drop2['release date'].apply(lambda x: x.strftime(\"%b\"))"
   ]
  },
  {
   "cell_type": "code",
   "execution_count": 67,
   "id": "226e7c1e",
   "metadata": {},
   "outputs": [],
   "source": [
    "# Getting dummies for the months\n",
    "month_df = pd.get_dummies(movie_drop2['month'])"
   ]
  },
  {
   "cell_type": "code",
   "execution_count": 68,
   "id": "85abb8a1",
   "metadata": {},
   "outputs": [],
   "source": [
    "month_model = pd.concat([prod_model, month_df], axis=1)"
   ]
  },
  {
   "cell_type": "code",
   "execution_count": 69,
   "id": "a04964db",
   "metadata": {},
   "outputs": [
    {
     "name": "stdout",
     "output_type": "stream",
     "text": [
      "R-squared: 0.4646\n"
     ]
    }
   ],
   "source": [
    "X, y = month_model.iloc[:,2:], month_model['imdb rating']\n",
    "lr = LinearRegression()\n",
    "lr.fit(X, y)\n",
    "print ('R-squared: {:.4f}'.format(lr.score(X, y)))"
   ]
  },
  {
   "cell_type": "code",
   "execution_count": 70,
   "id": "ebf9104a",
   "metadata": {},
   "outputs": [],
   "source": [
    "# Feature: Years since release\n",
    "\n",
    "date = pd.to_datetime(datetime.now().date())"
   ]
  },
  {
   "cell_type": "code",
   "execution_count": 71,
   "id": "6bf75fe0",
   "metadata": {},
   "outputs": [],
   "source": [
    "movie_drop2['years since release'] = movie_drop2['release date'].apply(lambda x: (((date-pd.to_datetime(x))).days/ 365.25))"
   ]
  },
  {
   "cell_type": "code",
   "execution_count": 72,
   "id": "1bc31a8d",
   "metadata": {},
   "outputs": [],
   "source": [
    "month_model['years since release'] = movie_drop2['years since release']"
   ]
  },
  {
   "cell_type": "code",
   "execution_count": 73,
   "id": "0da445fb",
   "metadata": {},
   "outputs": [
    {
     "name": "stdout",
     "output_type": "stream",
     "text": [
      "R-squared: 0.4782\n"
     ]
    }
   ],
   "source": [
    "X, y = month_model.iloc[:,2:], month_model['imdb rating']\n",
    "lr = LinearRegression()\n",
    "lr.fit(X, y)\n",
    "print ('R-squared: {:.4f}'.format(lr.score(X, y)))"
   ]
  },
  {
   "cell_type": "code",
   "execution_count": 74,
   "id": "398ac50e",
   "metadata": {},
   "outputs": [],
   "source": [
    "# STEP 5: TRAIN/VALIDATION/TEST\n",
    "\n",
    "X, y = month_model.iloc[:,2:], month_model['imdb rating']\n",
    "X, X_test, y, y_test = train_test_split(X, y, test_size=.2, random_state=20)"
   ]
  },
  {
   "cell_type": "code",
   "execution_count": 75,
   "id": "11cdffbd",
   "metadata": {},
   "outputs": [],
   "source": [
    "X_train, X_val, y_train, y_val = train_test_split(X, y, test_size=.25, random_state=20)"
   ]
  },
  {
   "cell_type": "code",
   "execution_count": 76,
   "id": "d195b6f3",
   "metadata": {},
   "outputs": [],
   "source": [
    "# First testing the Linear Regression Vs. Polynomial Features\n",
    "\n",
    "lr = LinearRegression()\n",
    "\n",
    "poly = PolynomialFeatures(degree=2)\n",
    "\n",
    "X_train_poly = poly.fit_transform(X_train.values)\n",
    "X_val_poly = poly.transform(X_val.values)\n",
    "X_test_poly = poly.transform(X_test.values)\n",
    "\n",
    "lr_poly = LinearRegression()"
   ]
  },
  {
   "cell_type": "code",
   "execution_count": 77,
   "id": "60f6f802",
   "metadata": {},
   "outputs": [
    {
     "name": "stdout",
     "output_type": "stream",
     "text": [
      "Linear Regression val R-squared: 0.339\n",
      "Degree 2 polynomial regression val R-squared: -29.034\n"
     ]
    }
   ],
   "source": [
    "lr.fit(X_train, y_train)\n",
    "print(f'Linear Regression val R-squared: {lr.score(X_val, y_val):.3f}')\n",
    "\n",
    "lr_poly.fit(X_train_poly, y_train)\n",
    "print(f'Degree 2 polynomial regression val R-squared: {lr_poly.score(X_val_poly, y_val):.3f}')"
   ]
  },
  {
   "cell_type": "code",
   "execution_count": 78,
   "id": "4fd34994",
   "metadata": {},
   "outputs": [],
   "source": [
    "# Reseting the data for the next model: Ridge Model\n",
    "\n",
    "#X, y = month_model.iloc[:,2,:], month_model['imdb rating']"
   ]
  },
  {
   "cell_type": "code",
   "execution_count": 79,
   "id": "3198342b",
   "metadata": {},
   "outputs": [],
   "source": [
    "# Reseting the data for the next model: Ridge Model\n",
    "X, X_test, y, y_test = train_test_split(X, y, test_size=.2, random_state=10)\n",
    "X, y = np.array(X), np.array(y)\n",
    "lr = LinearRegression()"
   ]
  },
  {
   "cell_type": "code",
   "execution_count": 80,
   "id": "182a47fa",
   "metadata": {},
   "outputs": [
    {
     "name": "stdout",
     "output_type": "stream",
     "text": [
      "Simple regression scores:  [0.32581037722866657, 0.3938748759198808, 0.34989492003858613, 0.31758554378025305, 0.16497115402305895]\n",
      "Ridge scores:  [0.3264446011493577, 0.39444795358114215, 0.35025083364025034, 0.31798035945953995, 0.1660351950661122] \n",
      "\n",
      "Simple mean cv R-squared: 0.310 +- 0.077\n",
      "Ridge mean cv R-squared: 0.311 +- 0.077\n"
     ]
    }
   ],
   "source": [
    "# Validating the Linear Model Vs. Ridge Model\n",
    "\n",
    "kf = KFold(n_splits=5, shuffle=True, random_state = 61)\n",
    "cv_lr_r2s, cv_lr_reg_r2s = [], []\n",
    "\n",
    "for train_ind, val_ind in kf.split(X,y):\n",
    "    \n",
    "    X_train, y_train = X[train_ind], y[train_ind]\n",
    "    X_val, y_val = X[val_ind], y[val_ind]\n",
    "    \n",
    "    #Linear Regression\n",
    "    lr = LinearRegression()\n",
    "    lr_reg = Ridge(alpha=1)\n",
    "    \n",
    "    lr.fit(X_train, y_train)\n",
    "    cv_lr_r2s.append(lr.score(X_val, y_val))\n",
    "    \n",
    "    \n",
    "    #Ridge\n",
    "    scaler = StandardScaler()\n",
    "    X_train_scaled = scaler.fit_transform(X_train)\n",
    "    X_val_scaled = scaler.transform(X_val)\n",
    "    \n",
    "    lr_reg.fit(X_train_scaled, y_train)\n",
    "    cv_lr_reg_r2s.append(lr_reg.score(X_val_scaled, y_val))\n",
    "    \n",
    "\n",
    "print('Simple regression scores: ', cv_lr_r2s)\n",
    "print('Ridge scores: ', cv_lr_reg_r2s, '\\n')\n",
    "\n",
    "print(f'Simple mean cv R-squared: {np.mean(cv_lr_r2s):.3f} +- {np.std(cv_lr_r2s):.3f}')\n",
    "print(f'Ridge mean cv R-squared: {np.mean(cv_lr_reg_r2s):.3f} +- {np.std(cv_lr_reg_r2s):.3f}')"
   ]
  },
  {
   "cell_type": "code",
   "execution_count": 81,
   "id": "74b76007",
   "metadata": {},
   "outputs": [],
   "source": [
    "# Investigating the data and model a bit more\n",
    "\n",
    "# Reseting the data for the next model\n",
    "X, y = month_model.iloc[:,2:], month_model['imdb rating']\n",
    "X_train, X_test, y_train, y_test = train_test_split (X, y, test_size=.2, random_state=10)"
   ]
  },
  {
   "cell_type": "code",
   "execution_count": 82,
   "id": "39549104",
   "metadata": {},
   "outputs": [],
   "source": [
    "#Rescaling the data for more Ridge testing\n",
    "scaler = StandardScaler()\n",
    "X_train_scaled = scaler.fit_transform(X_train)\n",
    "X_test_scaled = scaler.transform(X_test)"
   ]
  },
  {
   "cell_type": "code",
   "execution_count": 83,
   "id": "653d1b24",
   "metadata": {},
   "outputs": [],
   "source": [
    "#Ridge model code:\n",
    "lr_reg.fit(X_train_scaled, y_train);"
   ]
  },
  {
   "cell_type": "code",
   "execution_count": 84,
   "id": "afe58344",
   "metadata": {},
   "outputs": [],
   "source": [
    "#Setting the predicated values to a variable\n",
    "test_set_pred = lr_reg.predict(X_test_scaled)"
   ]
  },
  {
   "cell_type": "code",
   "execution_count": 85,
   "id": "26f42fac",
   "metadata": {},
   "outputs": [
    {
     "data": {
      "image/png": "[encoded data removed]",
      "text/plain": [
       "<Figure size 432x288 with 1 Axes>"
      ]
     },
     "metadata": {
      "needs_background": "light"
     },
     "output_type": "display_data"
    }
   ],
   "source": [
    "#Plotting\n",
    "plt.scatter(test_set_pred, y_test, alpha=.5)\n",
    "plt.plot(np.linspace(0,10), np.linspace(0,10))\n",
    "plt.title('Ridge Model Prediction Vs. Target')\n",
    "plt.xlabel('Predicted IMDb Rating')\n",
    "plt.ylabel('Actual IMDb Rating');"
   ]
  },
  {
   "cell_type": "code",
   "execution_count": 86,
   "id": "44cc7c0c",
   "metadata": {},
   "outputs": [
    {
     "name": "stdout",
     "output_type": "stream",
     "text": [
      "Ridge R-squared: 0.3769\n"
     ]
    }
   ],
   "source": [
    "print ('Ridge R-squared: {:.4f}'.format(r2_score(y_test, test_set_pred)))"
   ]
  },
  {
   "cell_type": "code",
   "execution_count": 87,
   "id": "8b2f250b",
   "metadata": {},
   "outputs": [
    {
     "name": "stdout",
     "output_type": "stream",
     "text": [
      "MAE: 0.7056\n"
     ]
    }
   ],
   "source": [
    "# Mean Absolute Error (MAE)\n",
    "def mae(y_true, y_pred):\n",
    "    return np.mean(np.abs(y_pred - y_true))\n",
    "\n",
    "print('MAE: {:.4f}'.format(mae(y_test, test_set_pred)))"
   ]
  },
  {
   "cell_type": "code",
   "execution_count": 88,
   "id": "34fb286d",
   "metadata": {},
   "outputs": [],
   "source": [
    "def diagnostic_plot(x, y):\n",
    "    plt.figure(figsize=(20,5))\n",
    "    \n",
    "    pred = x\n",
    "    \n",
    "    plt.subplot(1, 3, 1)\n",
    "    plt.scatter(x, y)\n",
    "    plt.plot(x, pred, color='blue', linewidth=1)\n",
    "    plt.title(\"Regression fit\")\n",
    "    plt.xlabel(\"x\")\n",
    "    plt.ylabel(\"y\")\n",
    "    \n",
    "    plt.subplot(1, 3, 2)\n",
    "    res = y - pred\n",
    "    plt.scatter(pred, res)\n",
    "    plt.title(\"Residual plot\")\n",
    "    plt.xlabel(\"prediction\")\n",
    "    plt.ylabel(\"residuals\")\n",
    "    \n",
    "    plt.subplot(1, 3, 3)\n",
    "    \n",
    "    #Generated a probability plot of sample data against the quantiles of a specified theoretical distribution\n",
    "    stats.probplot(res, dist=\"norm\", plot=plt)\n",
    "    plt.title(\"Normal Q-Q plot\");"
   ]
  },
  {
   "cell_type": "code",
   "execution_count": 89,
   "id": "7f38db9e",
   "metadata": {},
   "outputs": [
    {
     "data": {
      "image/png": "[encoded data removed]",
      "text/plain": [
       "<Figure size 1440x360 with 3 Axes>"
      ]
     },
     "metadata": {
      "needs_background": "light"
     },
     "output_type": "display_data"
    }
   ],
   "source": [
    "# The head and tails of the Q-Q plot seem to tell a story about the data\n",
    "# Also, there seems to be an outlier that's messing with the model as show in the Regression fit\n",
    "\n",
    "diagnostic_plot(test_set_pred, y_test)"
   ]
  },
  {
   "cell_type": "code",
   "execution_count": 90,
   "id": "5ccce728",
   "metadata": {},
   "outputs": [],
   "source": [
    "# STEP 6: HONING IN ON THE IMPORTANT FEATURES\n",
    "\n",
    "X, y = month_model.iloc[:,2:], month_model['imdb rating']"
   ]
  },
  {
   "cell_type": "code",
   "execution_count": 91,
   "id": "bb58d770",
   "metadata": {},
   "outputs": [],
   "source": [
    "#Rescaling the data for more Ridge testing \n",
    "X_scaled = scaler.fit_transform(X)\n",
    "X_predicted = lr_reg.predict(X_scaled)"
   ]
  },
  {
   "cell_type": "code",
   "execution_count": 92,
   "id": "3636a4a7",
   "metadata": {},
   "outputs": [],
   "source": [
    "# Creating a residuals column to determine if there is any relationship behind the movies that are overpredicted and underpredicted\n",
    "\n",
    "month_model['res'] = X_predicted - month_model['imdb rating']"
   ]
  },
  {
   "cell_type": "code",
   "execution_count": 93,
   "id": "d928da93",
   "metadata": {},
   "outputs": [
    {
     "data": {
      "text/plain": [
       "movie title\n",
       "As I Am                             -4.197554\n",
       "The Transcendents                   -3.521925\n",
       "Love Struck Sick                    -3.449741\n",
       "Love in Kilnerry                    -2.940718\n",
       "An Hour to Kill                     -2.915861\n",
       "BROS. Last Call                     -2.336086\n",
       "Never Hike Alone                    -2.238448\n",
       "Paddington 2                        -2.225282\n",
       "A Quiet Place                       -2.158347\n",
       "Bros.                               -2.098708\n",
       "The Grand Budapest Hotel            -2.066439\n",
       "Don't Breathe                       -1.990924\n",
       "Bad Hero                            -1.960775\n",
       "1917                                -1.943660\n",
       "Joker                               -1.854521\n",
       "Green Room                          -1.828523\n",
       "Get Out                             -1.689182\n",
       "Spider-Man: Into the Spider-Verse   -1.688640\n",
       "Room                                -1.680567\n",
       "The Gentlemen                       -1.668842\n",
       "Name: res, dtype: float64"
      ]
     },
     "execution_count": 93,
     "metadata": {},
     "output_type": "execute_result"
    }
   ],
   "source": [
    "# The residual values are moving very slowly up to An Hour To Kill which has a large jump from BROS. Last Call.\n",
    "# It seems like the bottom 5 are underpredicted\n",
    "\n",
    "month_model['res'].sort_values().head(20)"
   ]
  },
  {
   "cell_type": "code",
   "execution_count": 94,
   "id": "b02bee8f",
   "metadata": {},
   "outputs": [],
   "source": [
    "# Setting the top 5 to a variable\n",
    "underpredicted = month_model['res'].sort_values().head(5).index.tolist()"
   ]
  },
  {
   "cell_type": "code",
   "execution_count": 95,
   "id": "e187506d",
   "metadata": {},
   "outputs": [
    {
     "data": {
      "text/plain": [
       "movie title\n",
       "Accidental Love                  2.047244\n",
       "The Perfect Weapon               2.149101\n",
       "Fifty Shades of Black            2.159687\n",
       "Transformers: The Last Knight    2.172238\n",
       "Don't Fuck in the Woods          2.175374\n",
       "God's Not Dead 2                 2.195089\n",
       "The Asian Connection             2.200252\n",
       "Sniper Special Ops               2.240831\n",
       "Black Christmas                  2.270454\n",
       "Battle for Skyark                2.313977\n",
       "Bound                            2.534063\n",
       "2307: Winter's Dream             2.553643\n",
       "Jem and the Holograms            2.680291\n",
       "#Horror                          2.780958\n",
       "Norm of the North                2.786793\n",
       "Fifty Shades of Grey             2.884386\n",
       "The Emoji Movie                  2.947395\n",
       "Verotika                         3.226283\n",
       "Cats                             3.359890\n",
       "Shark Exorcist                   3.840700\n",
       "Name: res, dtype: float64"
      ]
     },
     "execution_count": 95,
     "metadata": {},
     "output_type": "execute_result"
    }
   ],
   "source": [
    "# This side is fairly similar, the numbers move pretty slowly up until 2307: Winter's Dream\n",
    "# It looks like the top 10 are underpredicted\n",
    "\n",
    "month_model['res'].sort_values().tail(20)"
   ]
  },
  {
   "cell_type": "code",
   "execution_count": 96,
   "id": "b76accda",
   "metadata": {},
   "outputs": [],
   "source": [
    "#Setting the above to another variable also\n",
    "overpredicted = month_model['res'].sort_values().tail(10).index.tolist()"
   ]
  },
  {
   "cell_type": "code",
   "execution_count": 97,
   "id": "b6f5bbc6",
   "metadata": {},
   "outputs": [
    {
     "data": {
      "text/plain": [
       "['As I Am',\n",
       " 'The Transcendents',\n",
       " 'Love Struck Sick',\n",
       " 'Love in Kilnerry',\n",
       " 'An Hour to Kill']"
      ]
     },
     "execution_count": 97,
     "metadata": {},
     "output_type": "execute_result"
    }
   ],
   "source": [
    "movie_drop2.loc[underpredicted].index.tolist()"
   ]
  },
  {
   "cell_type": "code",
   "execution_count": 98,
   "id": "f313c898",
   "metadata": {},
   "outputs": [
    {
     "data": {
      "text/plain": [
       "['Bound',\n",
       " \"2307: Winter's Dream\",\n",
       " 'Jem and the Holograms',\n",
       " '#Horror',\n",
       " 'Norm of the North',\n",
       " 'Fifty Shades of Grey',\n",
       " 'The Emoji Movie',\n",
       " 'Verotika',\n",
       " 'Cats',\n",
       " 'Shark Exorcist']"
      ]
     },
     "execution_count": 98,
     "metadata": {},
     "output_type": "execute_result"
    }
   ],
   "source": [
    "movie_drop2.loc[overpredicted].index.tolist()"
   ]
  },
  {
   "cell_type": "code",
   "execution_count": 99,
   "id": "a135fd5b",
   "metadata": {},
   "outputs": [
    {
     "data": {
      "text/plain": [
       "imdb rating             65\n",
       "imdb raters             65\n",
       "mpaa                    65\n",
       "genres                  65\n",
       "director                65\n",
       "writer                  65\n",
       "stars                   65\n",
       "country                 65\n",
       "language                65\n",
       "release date            65\n",
       "budget                  65\n",
       "opening weekend         10\n",
       "gross usa               11\n",
       "cumulative worldwide    26\n",
       "production companies    65\n",
       "runtime (min)           65\n",
       "top directors           65\n",
       "top stars               65\n",
       "top prod co.            65\n",
       "month                   65\n",
       "years since release     65\n",
       "dtype: int64"
      ]
     },
     "execution_count": 99,
     "metadata": {},
     "output_type": "execute_result"
    }
   ],
   "source": [
    "movie_drop2[movie_drop2['imdb raters'] < 1500].count()"
   ]
  },
  {
   "cell_type": "markdown",
   "id": "f70e14a4",
   "metadata": {},
   "source": [
    "1. The underpredicted movies have a small number of individuals who rated those movies. Which was something that was accounted for, by negating under 1,000 raters, which will now be changed to 1,500 raters. This removes 65 movies from the model, which is only but 5% of the data, which is not a bad sacrifice.\n",
    "2. In the overpredicted movies, there are a few that stand out: Cats and The Emoji Movie. Both of which had big studios, well-known stars, and a lot of publicity. But had terrible concepts that the public did not receive well.\n",
    "For, Fifty Shades of Grey, it had a lot of promise and a lot of popularity, but it was a polarizing movie in the public's eye. \n",
    "Addressing these residuals is a little harder because the model can not turn what made those moives turn out bad into a feature."
   ]
  },
  {
   "cell_type": "code",
   "execution_count": 100,
   "id": "ac6d0741",
   "metadata": {},
   "outputs": [],
   "source": [
    "# Creating a new DataFrame with the new requirement\n",
    "res_model = month_model[movie_drop2['imdb raters'] > 1500]"
   ]
  },
  {
   "cell_type": "code",
   "execution_count": 101,
   "id": "29a9b7b2",
   "metadata": {},
   "outputs": [],
   "source": [
    "# Taking out the residuals column\n",
    "res_model.drop(labels='res', axis=1, inplace=True)"
   ]
  },
  {
   "cell_type": "code",
   "execution_count": 102,
   "id": "698972e2",
   "metadata": {},
   "outputs": [],
   "source": [
    "# Reseting the data for the next tests\n",
    "X, y = res_model.iloc[:,2:], res_model['imdb rating']\n",
    "X_train, X_test, y_train, y_test = train_test_split(X, y, test_size=.2, random_state=10)"
   ]
  },
  {
   "cell_type": "code",
   "execution_count": 103,
   "id": "e39b9114",
   "metadata": {},
   "outputs": [],
   "source": [
    "#Scaling the data to put into the model\n",
    "X_tr_scaled = scaler.fit_transform(X_train)\n",
    "X_te_scaled = scaler.fit_transform(X_test)"
   ]
  },
  {
   "cell_type": "code",
   "execution_count": 104,
   "id": "1011a623",
   "metadata": {},
   "outputs": [],
   "source": [
    "#Testing the model with some folds\n",
    "ridge_m = Ridge()\n",
    "kf = KFold(n_splits=5, shuffle=True, random_state=71)"
   ]
  },
  {
   "cell_type": "code",
   "execution_count": 105,
   "id": "3d8df011",
   "metadata": {},
   "outputs": [
    {
     "data": {
      "text/plain": [
       "array([0.33760767, 0.34417179, 0.36589622, 0.4778016 , 0.48545562])"
      ]
     },
     "execution_count": 105,
     "metadata": {},
     "output_type": "execute_result"
    }
   ],
   "source": [
    "#Fairlt similar r2 to previous runs\n",
    "cross_val_score(ridge_m, X_tr_scaled, y_train, cv=kf, scoring='r2')"
   ]
  },
  {
   "cell_type": "code",
   "execution_count": 106,
   "id": "59d29a03",
   "metadata": {},
   "outputs": [
    {
     "name": "stdout",
     "output_type": "stream",
     "text": [
      "Ridge R-squared: 0.4178\n"
     ]
    }
   ],
   "source": [
    "ridge_m.fit(X_tr_scaled, y_train)\n",
    "ridge_m.score(X_te_scaled, y_test)\n",
    "print('Ridge R-squared: {:.4f}'.format(ridge_m.score(X_te_scaled, y_test)))"
   ]
  },
  {
   "cell_type": "code",
   "execution_count": 107,
   "id": "ab1fc9cf",
   "metadata": {},
   "outputs": [
    {
     "name": "stdout",
     "output_type": "stream",
     "text": [
      "Ideal Alpha: 10.0\n"
     ]
    }
   ],
   "source": [
    "# Honing in on the right alpha value for ridge\n",
    "\n",
    "#Using RidgeCV, one can see which alpha works best\n",
    "m_alpha = RidgeCV(alphas=[0.1, 1.0, 10.0])\n",
    "model_cv = m_alpha.fit(X_tr_scaled, y_train)\n",
    "print('Ideal Alpha: {}'.format(model_cv.alpha_))"
   ]
  },
  {
   "cell_type": "code",
   "execution_count": 108,
   "id": "2114c7a9",
   "metadata": {},
   "outputs": [
    {
     "name": "stdout",
     "output_type": "stream",
     "text": [
      "Ideal Alpha: 10.0\n"
     ]
    }
   ],
   "source": [
    "#Looking closer to alphas closer to 10 for further confirmation\n",
    "m_alpha = RidgeCV(alphas=[8.0, 8.5, 9.0, 10.0])\n",
    "model_cv = m_alpha.fit(X_tr_scaled, y_train)\n",
    "print('Ideal Alpha: {}'.format(model_cv.alpha_))"
   ]
  },
  {
   "cell_type": "code",
   "execution_count": 109,
   "id": "5c4bab8a",
   "metadata": {},
   "outputs": [
    {
     "name": "stdout",
     "output_type": "stream",
     "text": [
      "Ridge r2: 0.41936\n"
     ]
    }
   ],
   "source": [
    "#Looking as if 10 is the best fit\n",
    "\n",
    "ridge_m = Ridge(alpha=10)\n",
    "ridge_m.fit(X_tr_scaled, y_train)\n",
    "print('Ridge r2: {:.5f}'.format(ridge_m.score(X_te_scaled, y_test)))"
   ]
  },
  {
   "cell_type": "code",
   "execution_count": 110,
   "id": "d1e07510",
   "metadata": {},
   "outputs": [],
   "source": [
    "model_pred = ridge_m.predict(X_te_scaled)"
   ]
  },
  {
   "cell_type": "code",
   "execution_count": 111,
   "id": "26b1f198",
   "metadata": {},
   "outputs": [
    {
     "name": "stdout",
     "output_type": "stream",
     "text": [
      "Ridge MAE 0.64932\n"
     ]
    }
   ],
   "source": [
    "#Final MAE\n",
    "print('Ridge MAE {:.5f}'.format(mae(model_pred, y_test)))"
   ]
  },
  {
   "cell_type": "code",
   "execution_count": 112,
   "id": "57cee420",
   "metadata": {},
   "outputs": [
    {
     "data": {
      "image/png": "[encoded data removed]",
      "text/plain": [
       "<Figure size 432x288 with 1 Axes>"
      ]
     },
     "metadata": {
      "needs_background": "light"
     },
     "output_type": "display_data"
    }
   ],
   "source": [
    "# Replotting the Predicted with Actual\n",
    "\n",
    "plt.scatter(model_pred, y_test, alpha=.5)\n",
    "plt.plot(np.linspace(0,20), np.linspace(0,20))\n",
    "plt.title('Final Model Prediction Vs. Target', fontdict = {'fontsize' : 20})\n",
    "plt.xlabel('Predicted IMDb Rating', fontdict = {'fontsize' : 16})\n",
    "plt.ylabel('Actual IMDb Rating', fontdict = {'fontsize' : 16})\n",
    "plt.xticks(fontsize=15)\n",
    "plt.yticks(fontsize=15)\n",
    "plt.axis([3,10,2,10])\n",
    "plt.show()"
   ]
  },
  {
   "cell_type": "code",
   "execution_count": 113,
   "id": "83d038a1",
   "metadata": {},
   "outputs": [],
   "source": [
    "# NOW LOOKING AT WHICH FEATURES WERE THE MOST IMPORTANT\n",
    "\n",
    "coef_zip = list(zip(res_model.iloc[:,2:].columns.tolist(), ridge_m.coef_))\n",
    "sorted_coef = sorted(coef_zip, key = lambda x: abs(x[1]))"
   ]
  },
  {
   "cell_type": "code",
   "execution_count": 114,
   "id": "72c4334e",
   "metadata": {},
   "outputs": [
    {
     "data": {
      "text/plain": [
       "[('runtime (min)', 0.43205023105781126),\n",
       " ('years since release', 0.18572664013718057),\n",
       " ('Drama', 0.15974292169489948),\n",
       " ('Animation', 0.15589770287503082),\n",
       " ('budget', 0.1054455763500789),\n",
       " ('Christopher Nolan', 0.10380572885250355),\n",
       " ('Horror', -0.08879295063391948),\n",
       " ('Family', -0.08501139103275708),\n",
       " ('Rhett Reese', 0.08100235981144702)]"
      ]
     },
     "execution_count": 114,
     "metadata": {},
     "output_type": "execute_result"
    }
   ],
   "source": [
    "#Selecting the top 10 features and thier corresponding coefficients\n",
    "sorted_coef[:-10:-1]"
   ]
  },
  {
   "cell_type": "markdown",
   "id": "0656fa29",
   "metadata": {},
   "source": [
    "With a Ridge model, the coefficients are scaled. And using the absolute value of the coefficients tells which  feature is most important in regards to the model"
   ]
  },
  {
   "cell_type": "code",
   "execution_count": 115,
   "id": "fcbf4972",
   "metadata": {},
   "outputs": [],
   "source": [
    "# Setting up the parameters to plot the most important features\n",
    "plot_name = [name[0].title() for name in sorted_coef[:-10:-1]]\n",
    "plot_coef = [coef[1] for coef in sorted_coef[:-10:-1]]\n",
    "colors = [0 if c>=0 else 1 for c in plot_coef]"
   ]
  },
  {
   "cell_type": "code",
   "execution_count": 116,
   "id": "4337b94c",
   "metadata": {},
   "outputs": [
    {
     "data": {
      "image/png": "[encoded data removed]",
      "text/plain": [
       "<Figure size 432x288 with 1 Axes>"
      ]
     },
     "metadata": {},
     "output_type": "display_data"
    }
   ],
   "source": [
    "sns.set_theme(style=\"whitegrid\")\n",
    "cmap = sns.diverging_palette(240, 10, n=2)\n",
    "movie_coef = sns.barplot(\n",
    "    y=plot_name,\n",
    "    x=plot_coef,\n",
    "    hue=colors,\n",
    "    palette=cmap,\n",
    "    orient='h',\n",
    "    )\n",
    "movie_coef.set_title('Top 10 Important Features for IMDb Rating', fontsize=20, y=1.05, x=0.31)\n",
    "movie_coef.get_legend().set_visible(False)\n",
    "movie_coef.set_xlabel('Coefficient', fontsize=15)\n",
    "movie_coef.set_ylabel('Feature', fontsize=18)\n",
    "plt.xticks(fontsize=15)\n",
    "plt.yticks(fontsize=15)\n",
    "plt.show()\n",
    "fig = movie_coef.get_figure()"
   ]
  },
  {
   "cell_type": "markdown",
   "id": "32b4ada2",
   "metadata": {},
   "source": [
    "Since our data is scaled for our Ridge regression, we can look at the coeffiecents for importance.\n",
    "1. Runtime and year since release are two important ratings\n",
    "2. Drama and Animation are good genres to enter  \n",
    "3. Christopher Nolan and Rhett Reese being two writers who have high influence over movie rating\n",
    "4. For negative impact, it seems: Horror and Family are two genres that will not help improve the rating of a movie"
   ]
  },
  {
   "cell_type": "code",
   "execution_count": 117,
   "id": "d4d47730",
   "metadata": {},
   "outputs": [
    {
     "data": {
      "image/png": "[encoded data removed]",
      "text/plain": [
       "<Figure size 1440x360 with 3 Axes>"
      ]
     },
     "metadata": {},
     "output_type": "display_data"
    }
   ],
   "source": [
    "diagnostic_plot(model_pred, y_test)"
   ]
  },
  {
   "cell_type": "markdown",
   "id": "1aca30e6",
   "metadata": {},
   "source": [
    "Results:\n",
    "The final model has an r2 of 0.43 and an MAE of 0.64.\n",
    "This model would be best suited for anyone trying to get into the movie industry with the focus being on a well received movie, rather than return on investments.\n",
    "Having the target being movie ratings, the user of this model would most likely be an artistic individual, or one who cares about legacy."
   ]
  },
  {
   "cell_type": "code",
   "execution_count": 9,
   "id": "a07b7e5d",
   "metadata": {},
   "outputs": [
    {
     "data": {
      "text/html": [
       "<div>\n",
       "<style scoped>\n",
       "    .dataframe tbody tr th:only-of-type {\n",
       "        vertical-align: middle;\n",
       "    }\n",
       "\n",
       "    .dataframe tbody tr th {\n",
       "        vertical-align: top;\n",
       "    }\n",
       "\n",
       "    .dataframe thead th {\n",
       "        text-align: right;\n",
       "    }\n",
       "</style>\n",
       "<table border=\"1\" class=\"dataframe\">\n",
       "  <thead>\n",
       "    <tr style=\"text-align: right;\">\n",
       "      <th></th>\n",
       "      <th>movie title</th>\n",
       "      <th>imdb rating</th>\n",
       "      <th>imdb raters</th>\n",
       "      <th>mpaa</th>\n",
       "      <th>genres</th>\n",
       "      <th>director</th>\n",
       "      <th>writer</th>\n",
       "      <th>stars</th>\n",
       "      <th>country</th>\n",
       "      <th>language</th>\n",
       "      <th>release date</th>\n",
       "      <th>budget</th>\n",
       "      <th>opening weekend</th>\n",
       "      <th>gross usa</th>\n",
       "      <th>cumulative worldwide</th>\n",
       "      <th>production companies</th>\n",
       "      <th>runtime (min)</th>\n",
       "    </tr>\n",
       "  </thead>\n",
       "  <tbody>\n",
       "    <tr>\n",
       "      <th>0</th>\n",
       "      <td>Mulan</td>\n",
       "      <td>5.4</td>\n",
       "      <td>57966.0</td>\n",
       "      <td>PG-13</td>\n",
       "      <td>['Action', 'Adventure', 'Drama', 'Family']</td>\n",
       "      <td>Niki Caro</td>\n",
       "      <td>Rick Jaffa</td>\n",
       "      <td>['Yifei Liu', 'Donnie Yen', 'Li Gong']</td>\n",
       "      <td>USA</td>\n",
       "      <td>English</td>\n",
       "      <td>2020-09-04</td>\n",
       "      <td>200000000.0</td>\n",
       "      <td>NaN</td>\n",
       "      <td>NaN</td>\n",
       "      <td>66800000.0</td>\n",
       "      <td>['Walt Disney Pictures', 'Jason T. Reed Produc...</td>\n",
       "      <td>115.0</td>\n",
       "    </tr>\n",
       "    <tr>\n",
       "      <th>1</th>\n",
       "      <td>The Invisible Man</td>\n",
       "      <td>7.1</td>\n",
       "      <td>136012.0</td>\n",
       "      <td>R</td>\n",
       "      <td>['Horror', 'Mystery', 'Sci-Fi', 'Thriller']</td>\n",
       "      <td>Leigh Whannell</td>\n",
       "      <td>Leigh Whannell</td>\n",
       "      <td>['Elisabeth Moss', 'Oliver Jackson-Cohen', 'Ha...</td>\n",
       "      <td>Canada</td>\n",
       "      <td>English</td>\n",
       "      <td>2020-02-28</td>\n",
       "      <td>7000000.0</td>\n",
       "      <td>28205665.0</td>\n",
       "      <td>64914050.0</td>\n",
       "      <td>130722137.0</td>\n",
       "      <td>['Universal Pictures', 'Blumhouse Productions'...</td>\n",
       "      <td>124.0</td>\n",
       "    </tr>\n",
       "    <tr>\n",
       "      <th>2</th>\n",
       "      <td>On the Basis of Sex</td>\n",
       "      <td>7.1</td>\n",
       "      <td>23877.0</td>\n",
       "      <td>PG-13</td>\n",
       "      <td>['Biography', 'Drama']</td>\n",
       "      <td>Mimi Leder</td>\n",
       "      <td>Daniel Stiepleman</td>\n",
       "      <td>['Felicity Jones', 'Armie Hammer', 'Justin The...</td>\n",
       "      <td>USA</td>\n",
       "      <td>English</td>\n",
       "      <td>2019-01-11</td>\n",
       "      <td>20000000.0</td>\n",
       "      <td>686355.0</td>\n",
       "      <td>24704837.0</td>\n",
       "      <td>38755900.0</td>\n",
       "      <td>['Alibaba Pictures', 'Amblin Partners', 'Dream...</td>\n",
       "      <td>120.0</td>\n",
       "    </tr>\n",
       "    <tr>\n",
       "      <th>3</th>\n",
       "      <td>The Gentlemen</td>\n",
       "      <td>7.9</td>\n",
       "      <td>188297.0</td>\n",
       "      <td>R</td>\n",
       "      <td>['Action', 'Comedy', 'Crime']</td>\n",
       "      <td>Guy Ritchie</td>\n",
       "      <td>Guy Ritchie</td>\n",
       "      <td>['Matthew McConaughey', 'Charlie Hunnam', 'Mic...</td>\n",
       "      <td>UK</td>\n",
       "      <td>English</td>\n",
       "      <td>2020-01-24</td>\n",
       "      <td>22000000.0</td>\n",
       "      <td>10651884.0</td>\n",
       "      <td>36471795.0</td>\n",
       "      <td>115171795.0</td>\n",
       "      <td>['STX Films', 'Miramax', 'Toff Guy Films']</td>\n",
       "      <td>113.0</td>\n",
       "    </tr>\n",
       "    <tr>\n",
       "      <th>4</th>\n",
       "      <td>Knives Out</td>\n",
       "      <td>7.9</td>\n",
       "      <td>394738.0</td>\n",
       "      <td>PG-13</td>\n",
       "      <td>['Comedy', 'Crime', 'Drama', 'Mystery', 'Thril...</td>\n",
       "      <td>Rian Johnson</td>\n",
       "      <td>Rian Johnson</td>\n",
       "      <td>['Daniel Craig', 'Chris Evans', 'Ana de Armas']</td>\n",
       "      <td>USA</td>\n",
       "      <td>English</td>\n",
       "      <td>2019-11-27</td>\n",
       "      <td>40000000.0</td>\n",
       "      <td>26769548.0</td>\n",
       "      <td>165363234.0</td>\n",
       "      <td>309232797.0</td>\n",
       "      <td>['Lionsgate', 'Media Rights Capital (MRC)', 'T...</td>\n",
       "      <td>130.0</td>\n",
       "    </tr>\n",
       "  </tbody>\n",
       "</table>\n",
       "</div>"
      ],
      "text/plain": [
       "           movie title  imdb rating  imdb raters   mpaa  \\\n",
       "0                Mulan          5.4      57966.0  PG-13   \n",
       "1    The Invisible Man          7.1     136012.0      R   \n",
       "2  On the Basis of Sex          7.1      23877.0  PG-13   \n",
       "3        The Gentlemen          7.9     188297.0      R   \n",
       "4           Knives Out          7.9     394738.0  PG-13   \n",
       "\n",
       "                                              genres        director  \\\n",
       "0         ['Action', 'Adventure', 'Drama', 'Family']       Niki Caro   \n",
       "1        ['Horror', 'Mystery', 'Sci-Fi', 'Thriller']  Leigh Whannell   \n",
       "2                             ['Biography', 'Drama']      Mimi Leder   \n",
       "3                      ['Action', 'Comedy', 'Crime']     Guy Ritchie   \n",
       "4  ['Comedy', 'Crime', 'Drama', 'Mystery', 'Thril...    Rian Johnson   \n",
       "\n",
       "              writer                                              stars  \\\n",
       "0         Rick Jaffa             ['Yifei Liu', 'Donnie Yen', 'Li Gong']   \n",
       "1     Leigh Whannell  ['Elisabeth Moss', 'Oliver Jackson-Cohen', 'Ha...   \n",
       "2  Daniel Stiepleman  ['Felicity Jones', 'Armie Hammer', 'Justin The...   \n",
       "3        Guy Ritchie  ['Matthew McConaughey', 'Charlie Hunnam', 'Mic...   \n",
       "4       Rian Johnson    ['Daniel Craig', 'Chris Evans', 'Ana de Armas']   \n",
       "\n",
       "  country language release date       budget  opening weekend    gross usa  \\\n",
       "0     USA  English   2020-09-04  200000000.0              NaN          NaN   \n",
       "1  Canada  English   2020-02-28    7000000.0       28205665.0   64914050.0   \n",
       "2     USA  English   2019-01-11   20000000.0         686355.0   24704837.0   \n",
       "3      UK  English   2020-01-24   22000000.0       10651884.0   36471795.0   \n",
       "4     USA  English   2019-11-27   40000000.0       26769548.0  165363234.0   \n",
       "\n",
       "   cumulative worldwide                               production companies  \\\n",
       "0            66800000.0  ['Walt Disney Pictures', 'Jason T. Reed Produc...   \n",
       "1           130722137.0  ['Universal Pictures', 'Blumhouse Productions'...   \n",
       "2            38755900.0  ['Alibaba Pictures', 'Amblin Partners', 'Dream...   \n",
       "3           115171795.0         ['STX Films', 'Miramax', 'Toff Guy Films']   \n",
       "4           309232797.0  ['Lionsgate', 'Media Rights Capital (MRC)', 'T...   \n",
       "\n",
       "   runtime (min)  \n",
       "0          115.0  \n",
       "1          124.0  \n",
       "2          120.0  \n",
       "3          113.0  \n",
       "4          130.0  "
      ]
     },
     "execution_count": 9,
     "metadata": {},
     "output_type": "execute_result"
    }
   ],
   "source": [
    "df2 = pd.read_csv('/home/gk/Projects Exercises/imdb/movies_8100.csv')\n",
    "df2.head()"
   ]
  },
  {
   "cell_type": "code",
   "execution_count": 10,
   "id": "0e7f8fe5",
   "metadata": {},
   "outputs": [
    {
     "data": {
      "text/plain": [
       "7947"
      ]
     },
     "execution_count": 10,
     "metadata": {},
     "output_type": "execute_result"
    }
   ],
   "source": [
    "df2[\"director\"].count()"
   ]
  },
  {
   "cell_type": "code",
   "execution_count": 49,
   "id": "91764175",
   "metadata": {},
   "outputs": [
    {
     "data": {
      "text/plain": [
       "0       False\n",
       "1       False\n",
       "2       False\n",
       "3       False\n",
       "4       False\n",
       "        ...  \n",
       "8095     True\n",
       "8096     True\n",
       "8097     True\n",
       "8098    False\n",
       "8099     True\n",
       "Name: director, Length: 8100, dtype: bool"
      ]
     },
     "execution_count": 49,
     "metadata": {},
     "output_type": "execute_result"
    }
   ],
   "source": [
    "df_duplicatedDirect = df2[\"director\"].duplicated()\n",
    "df_duplicatedDirect"
   ]
  },
  {
   "cell_type": "code",
   "execution_count": 12,
   "id": "f10871a6",
   "metadata": {},
   "outputs": [
    {
     "data": {
      "text/html": [
       "<div>\n",
       "<style scoped>\n",
       "    .dataframe tbody tr th:only-of-type {\n",
       "        vertical-align: middle;\n",
       "    }\n",
       "\n",
       "    .dataframe tbody tr th {\n",
       "        vertical-align: top;\n",
       "    }\n",
       "\n",
       "    .dataframe thead th {\n",
       "        text-align: right;\n",
       "    }\n",
       "</style>\n",
       "<table border=\"1\" class=\"dataframe\">\n",
       "  <thead>\n",
       "    <tr style=\"text-align: right;\">\n",
       "      <th></th>\n",
       "      <th>imdb rating</th>\n",
       "      <th>imdb raters</th>\n",
       "      <th>budget</th>\n",
       "      <th>opening weekend</th>\n",
       "      <th>gross usa</th>\n",
       "      <th>cumulative worldwide</th>\n",
       "      <th>runtime (min)</th>\n",
       "    </tr>\n",
       "  </thead>\n",
       "  <tbody>\n",
       "    <tr>\n",
       "      <th>count</th>\n",
       "      <td>7693.000000</td>\n",
       "      <td>7.693000e+03</td>\n",
       "      <td>2.735000e+03</td>\n",
       "      <td>1.529000e+03</td>\n",
       "      <td>1.623000e+03</td>\n",
       "      <td>2.196000e+03</td>\n",
       "      <td>7365.000000</td>\n",
       "    </tr>\n",
       "    <tr>\n",
       "      <th>mean</th>\n",
       "      <td>5.490784</td>\n",
       "      <td>2.200051e+04</td>\n",
       "      <td>1.868069e+07</td>\n",
       "      <td>1.332619e+07</td>\n",
       "      <td>4.264803e+07</td>\n",
       "      <td>8.113931e+07</td>\n",
       "      <td>94.643856</td>\n",
       "    </tr>\n",
       "    <tr>\n",
       "      <th>std</th>\n",
       "      <td>1.450399</td>\n",
       "      <td>1.071130e+05</td>\n",
       "      <td>4.184424e+07</td>\n",
       "      <td>3.141775e+07</td>\n",
       "      <td>9.395599e+07</td>\n",
       "      <td>2.262595e+08</td>\n",
       "      <td>18.409278</td>\n",
       "    </tr>\n",
       "    <tr>\n",
       "      <th>min</th>\n",
       "      <td>1.100000</td>\n",
       "      <td>5.000000e+00</td>\n",
       "      <td>0.000000e+00</td>\n",
       "      <td>1.000000e+01</td>\n",
       "      <td>2.520000e+02</td>\n",
       "      <td>5.100000e+01</td>\n",
       "      <td>15.000000</td>\n",
       "    </tr>\n",
       "    <tr>\n",
       "      <th>25%</th>\n",
       "      <td>4.500000</td>\n",
       "      <td>7.000000e+01</td>\n",
       "      <td>1.000000e+05</td>\n",
       "      <td>2.179400e+04</td>\n",
       "      <td>7.050150e+04</td>\n",
       "      <td>6.056475e+04</td>\n",
       "      <td>85.000000</td>\n",
       "    </tr>\n",
       "    <tr>\n",
       "      <th>50%</th>\n",
       "      <td>5.500000</td>\n",
       "      <td>2.950000e+02</td>\n",
       "      <td>1.200000e+06</td>\n",
       "      <td>5.154990e+05</td>\n",
       "      <td>4.046429e+06</td>\n",
       "      <td>1.498000e+06</td>\n",
       "      <td>92.000000</td>\n",
       "    </tr>\n",
       "    <tr>\n",
       "      <th>75%</th>\n",
       "      <td>6.500000</td>\n",
       "      <td>2.273000e+03</td>\n",
       "      <td>1.500000e+07</td>\n",
       "      <td>1.320346e+07</td>\n",
       "      <td>4.269086e+07</td>\n",
       "      <td>4.381425e+07</td>\n",
       "      <td>102.000000</td>\n",
       "    </tr>\n",
       "    <tr>\n",
       "      <th>max</th>\n",
       "      <td>10.000000</td>\n",
       "      <td>2.256087e+06</td>\n",
       "      <td>3.560000e+08</td>\n",
       "      <td>3.571150e+08</td>\n",
       "      <td>9.366622e+08</td>\n",
       "      <td>2.797801e+09</td>\n",
       "      <td>653.000000</td>\n",
       "    </tr>\n",
       "  </tbody>\n",
       "</table>\n",
       "</div>"
      ],
      "text/plain": [
       "       imdb rating   imdb raters        budget  opening weekend     gross usa  \\\n",
       "count  7693.000000  7.693000e+03  2.735000e+03     1.529000e+03  1.623000e+03   \n",
       "mean      5.490784  2.200051e+04  1.868069e+07     1.332619e+07  4.264803e+07   \n",
       "std       1.450399  1.071130e+05  4.184424e+07     3.141775e+07  9.395599e+07   \n",
       "min       1.100000  5.000000e+00  0.000000e+00     1.000000e+01  2.520000e+02   \n",
       "25%       4.500000  7.000000e+01  1.000000e+05     2.179400e+04  7.050150e+04   \n",
       "50%       5.500000  2.950000e+02  1.200000e+06     5.154990e+05  4.046429e+06   \n",
       "75%       6.500000  2.273000e+03  1.500000e+07     1.320346e+07  4.269086e+07   \n",
       "max      10.000000  2.256087e+06  3.560000e+08     3.571150e+08  9.366622e+08   \n",
       "\n",
       "       cumulative worldwide  runtime (min)  \n",
       "count          2.196000e+03    7365.000000  \n",
       "mean           8.113931e+07      94.643856  \n",
       "std            2.262595e+08      18.409278  \n",
       "min            5.100000e+01      15.000000  \n",
       "25%            6.056475e+04      85.000000  \n",
       "50%            1.498000e+06      92.000000  \n",
       "75%            4.381425e+07     102.000000  \n",
       "max            2.797801e+09     653.000000  "
      ]
     },
     "execution_count": 12,
     "metadata": {},
     "output_type": "execute_result"
    }
   ],
   "source": [
    "df2.describe()"
   ]
  },
  {
   "cell_type": "code",
   "execution_count": 16,
   "id": "f71ce299",
   "metadata": {},
   "outputs": [
    {
     "data": {
      "text/html": [
       "<div>\n",
       "<style scoped>\n",
       "    .dataframe tbody tr th:only-of-type {\n",
       "        vertical-align: middle;\n",
       "    }\n",
       "\n",
       "    .dataframe tbody tr th {\n",
       "        vertical-align: top;\n",
       "    }\n",
       "\n",
       "    .dataframe thead th {\n",
       "        text-align: right;\n",
       "    }\n",
       "</style>\n",
       "<table border=\"1\" class=\"dataframe\">\n",
       "  <thead>\n",
       "    <tr style=\"text-align: right;\">\n",
       "      <th></th>\n",
       "      <th>movie title</th>\n",
       "      <th>imdb rating</th>\n",
       "      <th>imdb raters</th>\n",
       "      <th>mpaa</th>\n",
       "      <th>genres</th>\n",
       "      <th>director</th>\n",
       "      <th>writer</th>\n",
       "      <th>stars</th>\n",
       "      <th>country</th>\n",
       "      <th>language</th>\n",
       "      <th>release date</th>\n",
       "      <th>budget</th>\n",
       "      <th>opening weekend</th>\n",
       "      <th>gross usa</th>\n",
       "      <th>cumulative worldwide</th>\n",
       "      <th>production companies</th>\n",
       "      <th>runtime (min)</th>\n",
       "    </tr>\n",
       "  </thead>\n",
       "  <tbody>\n",
       "    <tr>\n",
       "      <th>0</th>\n",
       "      <td>Mulan</td>\n",
       "      <td>5.4</td>\n",
       "      <td>57966.0</td>\n",
       "      <td>PG-13</td>\n",
       "      <td>['Action', 'Adventure', 'Drama', 'Family']</td>\n",
       "      <td>Niki Caro</td>\n",
       "      <td>Rick Jaffa</td>\n",
       "      <td>['Yifei Liu', 'Donnie Yen', 'Li Gong']</td>\n",
       "      <td>USA</td>\n",
       "      <td>English</td>\n",
       "      <td>2020-09-04</td>\n",
       "      <td>200000000.0</td>\n",
       "      <td>NaN</td>\n",
       "      <td>NaN</td>\n",
       "      <td>66800000.0</td>\n",
       "      <td>['Walt Disney Pictures', 'Jason T. Reed Produc...</td>\n",
       "      <td>115.0</td>\n",
       "    </tr>\n",
       "    <tr>\n",
       "      <th>946</th>\n",
       "      <td>The Zookeeper's Wife</td>\n",
       "      <td>7.0</td>\n",
       "      <td>37659.0</td>\n",
       "      <td>PG-13</td>\n",
       "      <td>['Biography', 'Drama', 'History', 'War']</td>\n",
       "      <td>Niki Caro</td>\n",
       "      <td>Angela Workman</td>\n",
       "      <td>['Jessica Chastain', 'Johan Heldenbergh', 'Dan...</td>\n",
       "      <td>Czech Republic</td>\n",
       "      <td>English</td>\n",
       "      <td>2017-04-07</td>\n",
       "      <td>20000000.0</td>\n",
       "      <td>3288835.0</td>\n",
       "      <td>17571660.0</td>\n",
       "      <td>26152835.0</td>\n",
       "      <td>['Scion Films', 'Czech Anglo Productions', 'LD...</td>\n",
       "      <td>127.0</td>\n",
       "    </tr>\n",
       "    <tr>\n",
       "      <th>1009</th>\n",
       "      <td>McFarland, USA</td>\n",
       "      <td>7.4</td>\n",
       "      <td>34801.0</td>\n",
       "      <td>PG</td>\n",
       "      <td>['Biography', 'Drama', 'Sport']</td>\n",
       "      <td>Niki Caro</td>\n",
       "      <td>Christopher Cleveland</td>\n",
       "      <td>['Kevin Costner', 'Maria Bello', 'Ramiro Rodri...</td>\n",
       "      <td>USA</td>\n",
       "      <td>English</td>\n",
       "      <td>2015-02-20</td>\n",
       "      <td>17000000.0</td>\n",
       "      <td>11020798.0</td>\n",
       "      <td>44482410.0</td>\n",
       "      <td>45710059.0</td>\n",
       "      <td>['Mayhem Pictures', 'Walt Disney Pictures']</td>\n",
       "      <td>129.0</td>\n",
       "    </tr>\n",
       "  </tbody>\n",
       "</table>\n",
       "</div>"
      ],
      "text/plain": [
       "               movie title  imdb rating  imdb raters   mpaa  \\\n",
       "0                    Mulan          5.4      57966.0  PG-13   \n",
       "946   The Zookeeper's Wife          7.0      37659.0  PG-13   \n",
       "1009        McFarland, USA          7.4      34801.0     PG   \n",
       "\n",
       "                                          genres   director  \\\n",
       "0     ['Action', 'Adventure', 'Drama', 'Family']  Niki Caro   \n",
       "946     ['Biography', 'Drama', 'History', 'War']  Niki Caro   \n",
       "1009             ['Biography', 'Drama', 'Sport']  Niki Caro   \n",
       "\n",
       "                     writer  \\\n",
       "0                Rick Jaffa   \n",
       "946          Angela Workman   \n",
       "1009  Christopher Cleveland   \n",
       "\n",
       "                                                  stars         country  \\\n",
       "0                ['Yifei Liu', 'Donnie Yen', 'Li Gong']             USA   \n",
       "946   ['Jessica Chastain', 'Johan Heldenbergh', 'Dan...  Czech Republic   \n",
       "1009  ['Kevin Costner', 'Maria Bello', 'Ramiro Rodri...             USA   \n",
       "\n",
       "     language release date       budget  opening weekend   gross usa  \\\n",
       "0     English   2020-09-04  200000000.0              NaN         NaN   \n",
       "946   English   2017-04-07   20000000.0        3288835.0  17571660.0   \n",
       "1009  English   2015-02-20   17000000.0       11020798.0  44482410.0   \n",
       "\n",
       "      cumulative worldwide                               production companies  \\\n",
       "0               66800000.0  ['Walt Disney Pictures', 'Jason T. Reed Produc...   \n",
       "946             26152835.0  ['Scion Films', 'Czech Anglo Productions', 'LD...   \n",
       "1009            45710059.0        ['Mayhem Pictures', 'Walt Disney Pictures']   \n",
       "\n",
       "      runtime (min)  \n",
       "0             115.0  \n",
       "946           127.0  \n",
       "1009          129.0  "
      ]
     },
     "execution_count": 16,
     "metadata": {},
     "output_type": "execute_result"
    }
   ],
   "source": [
    "df_directors = df2.groupby('director')\n",
    "df_directors.get_group('Niki Caro')"
   ]
  },
  {
   "cell_type": "code",
   "execution_count": 50,
   "id": "734a8012",
   "metadata": {},
   "outputs": [
    {
     "data": {
      "text/html": [
       "<div>\n",
       "<style scoped>\n",
       "    .dataframe tbody tr th:only-of-type {\n",
       "        vertical-align: middle;\n",
       "    }\n",
       "\n",
       "    .dataframe tbody tr th {\n",
       "        vertical-align: top;\n",
       "    }\n",
       "\n",
       "    .dataframe thead th {\n",
       "        text-align: right;\n",
       "    }\n",
       "</style>\n",
       "<table border=\"1\" class=\"dataframe\">\n",
       "  <thead>\n",
       "    <tr style=\"text-align: right;\">\n",
       "      <th></th>\n",
       "      <th>movie title</th>\n",
       "      <th>imdb rating</th>\n",
       "      <th>imdb raters</th>\n",
       "      <th>mpaa</th>\n",
       "      <th>genres</th>\n",
       "      <th>director</th>\n",
       "      <th>writer</th>\n",
       "      <th>stars</th>\n",
       "      <th>country</th>\n",
       "      <th>language</th>\n",
       "      <th>release date</th>\n",
       "      <th>budget</th>\n",
       "      <th>opening weekend</th>\n",
       "      <th>gross usa</th>\n",
       "      <th>cumulative worldwide</th>\n",
       "      <th>production companies</th>\n",
       "      <th>runtime (min)</th>\n",
       "    </tr>\n",
       "  </thead>\n",
       "  <tbody>\n",
       "    <tr>\n",
       "      <th>771</th>\n",
       "      <td>A Dog's Purpose</td>\n",
       "      <td>7.2</td>\n",
       "      <td>63858.0</td>\n",
       "      <td>PG</td>\n",
       "      <td>['Adventure', 'Comedy', 'Drama', 'Family', 'Fa...</td>\n",
       "      <td>Lasse Hallström</td>\n",
       "      <td>W. Bruce Cameron</td>\n",
       "      <td>['Josh Gad', 'Dennis Quaid', 'Peggy Lipton']</td>\n",
       "      <td>USA</td>\n",
       "      <td>English</td>\n",
       "      <td>2017-01-27</td>\n",
       "      <td>22000000.0</td>\n",
       "      <td>18222810.0</td>\n",
       "      <td>64508620.0</td>\n",
       "      <td>205736628.0</td>\n",
       "      <td>['DreamWorks', 'Walden Media', 'Amblin Enterta...</td>\n",
       "      <td>100.0</td>\n",
       "    </tr>\n",
       "    <tr>\n",
       "      <th>8097</th>\n",
       "      <td>Hachi: A Dog's Tale</td>\n",
       "      <td>8.1</td>\n",
       "      <td>247282.0</td>\n",
       "      <td>G</td>\n",
       "      <td>['Drama', 'Family']</td>\n",
       "      <td>Lasse Hallström</td>\n",
       "      <td>Stephen P. Lindsey</td>\n",
       "      <td>['Richard Gere', 'Joan Allen', 'Cary-Hiroyuki ...</td>\n",
       "      <td>UK</td>\n",
       "      <td>English</td>\n",
       "      <td>2010-03-12</td>\n",
       "      <td>16000000.0</td>\n",
       "      <td>NaN</td>\n",
       "      <td>NaN</td>\n",
       "      <td>46749646.0</td>\n",
       "      <td>['Stage 6 Films', 'Inferno Distribution', 'Hac...</td>\n",
       "      <td>93.0</td>\n",
       "    </tr>\n",
       "  </tbody>\n",
       "</table>\n",
       "</div>"
      ],
      "text/plain": [
       "              movie title  imdb rating  imdb raters mpaa  \\\n",
       "771       A Dog's Purpose          7.2      63858.0   PG   \n",
       "8097  Hachi: A Dog's Tale          8.1     247282.0    G   \n",
       "\n",
       "                                                 genres         director  \\\n",
       "771   ['Adventure', 'Comedy', 'Drama', 'Family', 'Fa...  Lasse Hallström   \n",
       "8097                                ['Drama', 'Family']  Lasse Hallström   \n",
       "\n",
       "                  writer                                              stars  \\\n",
       "771     W. Bruce Cameron       ['Josh Gad', 'Dennis Quaid', 'Peggy Lipton']   \n",
       "8097  Stephen P. Lindsey  ['Richard Gere', 'Joan Allen', 'Cary-Hiroyuki ...   \n",
       "\n",
       "     country language release date      budget  opening weekend   gross usa  \\\n",
       "771      USA  English   2017-01-27  22000000.0       18222810.0  64508620.0   \n",
       "8097      UK  English   2010-03-12  16000000.0              NaN         NaN   \n",
       "\n",
       "      cumulative worldwide                               production companies  \\\n",
       "771            205736628.0  ['DreamWorks', 'Walden Media', 'Amblin Enterta...   \n",
       "8097            46749646.0  ['Stage 6 Films', 'Inferno Distribution', 'Hac...   \n",
       "\n",
       "      runtime (min)  \n",
       "771           100.0  \n",
       "8097           93.0  "
      ]
     },
     "execution_count": 50,
     "metadata": {},
     "output_type": "execute_result"
    }
   ],
   "source": [
    "df_directors = df2.groupby('director')\n",
    "df_directors.get_group('Lasse Hallström')"
   ]
  },
  {
   "cell_type": "code",
   "execution_count": 35,
   "id": "6854b404",
   "metadata": {},
   "outputs": [
    {
     "data": {
      "text/plain": [
       "director\n",
       "Anthony Russo, Joe Russo                              2.169131e+09\n",
       "J.J. Abrams                                           1.571184e+09\n",
       "Chris Buck, Jennifer Lee                              1.450027e+09\n",
       "Joss Whedon                                           1.402810e+09\n",
       "Jon Favreau                                           1.311758e+09\n",
       "Kyle Balda, Pierre Coffin                             1.159445e+09\n",
       "Josh Cooley                                           1.073395e+09\n",
       "Lee Unkrich                                           1.066970e+09\n",
       "Gareth Edwards                                        1.056058e+09\n",
       "Andrew Stanton, Angus MacLane (co-director)           1.028571e+09\n",
       "James Wan                                             9.946423e+08\n",
       "Peter Jackson                                         9.911628e+08\n",
       "Andrew Stanton, Lee Unkrich (co-director)             9.403502e+08\n",
       "Jake Kasdan                                           8.793391e+08\n",
       "Chris Renaud, Yarrow Cheney (co-director)             8.754579e+08\n",
       "James Gunn                                            8.637561e+08\n",
       "Pete Docter, Ronnie Del Carmen (co-director)          8.580714e+08\n",
       "Colin Trevorrow                                       8.374991e+08\n",
       "Patty Jenkins                                         8.218470e+08\n",
       "Rian Johnson                                          8.208865e+08\n",
       "Lee Unkrich, Adrian Molina (co-director)              8.070839e+08\n",
       "Joachim Rønning, Espen Sandberg                       7.948814e+08\n",
       "David Yates                                           7.919482e+08\n",
       "Zack Snyder                                           7.657823e+08\n",
       "Ryan Coogler                                          7.604970e+08\n",
       "David Ayer                                            7.468469e+08\n",
       "Todd Phillips                                         7.449124e+08\n",
       "Christopher McQuarrie                                 7.369185e+08\n",
       "Pete Docter, Bob Peterson (co-director)               7.350991e+08\n",
       "Bryan Singer                                          7.239486e+08\n",
       "Brad Bird                                             6.944826e+08\n",
       "J.A. Bayona                                           6.778971e+08\n",
       "Scott Derrickson                                      6.777961e+08\n",
       "Jon Watts                                             6.707462e+08\n",
       "Garth Jennings, Christophe Lourdelet (co-director)    6.341549e+08\n",
       "Brad Bird, Jan Pinkava (co-director)                  6.237261e+08\n",
       "Christopher Nolan                                     6.118652e+08\n",
       "Andy Muschietti                                       5.874448e+08\n",
       "Peyton Reed                                           5.709931e+08\n",
       "Jordan Vogt-Roberts                                   5.666528e+08\n",
       "Anna Boden, Ryan Fleck                                5.643494e+08\n",
       "F. Gary Gray                                          5.638436e+08\n",
       "Sam Mendes                                            5.500842e+08\n",
       "David Leitch                                          5.482884e+08\n",
       "Alejandro G. Iñárritu                                 5.329505e+08\n",
       "Jon Turteltaub                                        5.302595e+08\n",
       "Phil Johnston, Rich Moore                             5.293240e+08\n",
       "Tom McGrath                                           5.279659e+08\n",
       "Tim Miller                                            5.218657e+08\n",
       "Dean DeBlois                                          5.218334e+08\n",
       "Name: cumulative worldwide, dtype: float64"
      ]
     },
     "execution_count": 35,
     "metadata": {},
     "output_type": "execute_result"
    }
   ],
   "source": [
    "#Group by direcotr and finding average 'cumulative worldwide' of each director\n",
    "df_directorsAvg = df2.groupby('director')['cumulative worldwide'].mean().dropna().sort_values(ascending=False)\n",
    "df_directorsAvg.head(50)"
   ]
  },
  {
   "cell_type": "code",
   "execution_count": null,
   "id": "87ccafa0",
   "metadata": {},
   "outputs": [],
   "source": []
  }
 ],
 "metadata": {
  "kernelspec": {
   "display_name": "Python 3 (ipykernel)",
   "language": "python",
   "name": "python3"
  },
  "language_info": {
   "codemirror_mode": {
    "name": "ipython",
    "version": 3
   },
   "file_extension": ".py",
   "mimetype": "text/x-python",
   "name": "python",
   "nbconvert_exporter": "python",
   "pygments_lexer": "ipython3",
   "version": "3.9.7"
  }
 },
 "nbformat": 4,
 "nbformat_minor": 5
}
